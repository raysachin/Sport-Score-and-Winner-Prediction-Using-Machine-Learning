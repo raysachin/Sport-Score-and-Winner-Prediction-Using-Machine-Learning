{
 "cells": [
  {
   "cell_type": "markdown",
   "id": "19243f21",
   "metadata": {},
   "source": [
    "# Ipl First Inning run prediction"
   ]
  },
  {
   "cell_type": "code",
   "execution_count": 1,
   "id": "b96a01f8",
   "metadata": {},
   "outputs": [],
   "source": [
    "# Importing essential libraries\n",
    "import pandas as pd\n",
    "import pickle\n",
    "import numpy as np\n",
    "\n",
    "from matplotlib import pyplot as plt \n",
    "\n",
    "import seaborn as sns "
   ]
  },
  {
   "cell_type": "code",
   "execution_count": 2,
   "id": "47b9a9f3",
   "metadata": {},
   "outputs": [],
   "source": [
    "# Loading the dataset\n",
    "df = pd.read_csv('../dataset/ipl.csv')"
   ]
  },
  {
   "cell_type": "code",
   "execution_count": 3,
   "id": "b9c91d1b",
   "metadata": {},
   "outputs": [
    {
     "data": {
      "text/html": [
       "<div>\n",
       "<style scoped>\n",
       "    .dataframe tbody tr th:only-of-type {\n",
       "        vertical-align: middle;\n",
       "    }\n",
       "\n",
       "    .dataframe tbody tr th {\n",
       "        vertical-align: top;\n",
       "    }\n",
       "\n",
       "    .dataframe thead th {\n",
       "        text-align: right;\n",
       "    }\n",
       "</style>\n",
       "<table border=\"1\" class=\"dataframe\">\n",
       "  <thead>\n",
       "    <tr style=\"text-align: right;\">\n",
       "      <th></th>\n",
       "      <th>mid</th>\n",
       "      <th>date</th>\n",
       "      <th>venue</th>\n",
       "      <th>bat_team</th>\n",
       "      <th>bowl_team</th>\n",
       "      <th>batsman</th>\n",
       "      <th>bowler</th>\n",
       "      <th>runs</th>\n",
       "      <th>wickets</th>\n",
       "      <th>overs</th>\n",
       "      <th>runs_last_5</th>\n",
       "      <th>wickets_last_5</th>\n",
       "      <th>striker</th>\n",
       "      <th>non-striker</th>\n",
       "      <th>total</th>\n",
       "    </tr>\n",
       "  </thead>\n",
       "  <tbody>\n",
       "    <tr>\n",
       "      <th>0</th>\n",
       "      <td>1</td>\n",
       "      <td>2008-04-18</td>\n",
       "      <td>M Chinnaswamy Stadium</td>\n",
       "      <td>Kolkata Knight Riders</td>\n",
       "      <td>Royal Challengers Bangalore</td>\n",
       "      <td>SC Ganguly</td>\n",
       "      <td>P Kumar</td>\n",
       "      <td>1</td>\n",
       "      <td>0</td>\n",
       "      <td>0.1</td>\n",
       "      <td>1</td>\n",
       "      <td>0</td>\n",
       "      <td>0</td>\n",
       "      <td>0</td>\n",
       "      <td>222</td>\n",
       "    </tr>\n",
       "    <tr>\n",
       "      <th>1</th>\n",
       "      <td>1</td>\n",
       "      <td>2008-04-18</td>\n",
       "      <td>M Chinnaswamy Stadium</td>\n",
       "      <td>Kolkata Knight Riders</td>\n",
       "      <td>Royal Challengers Bangalore</td>\n",
       "      <td>BB McCullum</td>\n",
       "      <td>P Kumar</td>\n",
       "      <td>1</td>\n",
       "      <td>0</td>\n",
       "      <td>0.2</td>\n",
       "      <td>1</td>\n",
       "      <td>0</td>\n",
       "      <td>0</td>\n",
       "      <td>0</td>\n",
       "      <td>222</td>\n",
       "    </tr>\n",
       "    <tr>\n",
       "      <th>2</th>\n",
       "      <td>1</td>\n",
       "      <td>2008-04-18</td>\n",
       "      <td>M Chinnaswamy Stadium</td>\n",
       "      <td>Kolkata Knight Riders</td>\n",
       "      <td>Royal Challengers Bangalore</td>\n",
       "      <td>BB McCullum</td>\n",
       "      <td>P Kumar</td>\n",
       "      <td>2</td>\n",
       "      <td>0</td>\n",
       "      <td>0.2</td>\n",
       "      <td>2</td>\n",
       "      <td>0</td>\n",
       "      <td>0</td>\n",
       "      <td>0</td>\n",
       "      <td>222</td>\n",
       "    </tr>\n",
       "    <tr>\n",
       "      <th>3</th>\n",
       "      <td>1</td>\n",
       "      <td>2008-04-18</td>\n",
       "      <td>M Chinnaswamy Stadium</td>\n",
       "      <td>Kolkata Knight Riders</td>\n",
       "      <td>Royal Challengers Bangalore</td>\n",
       "      <td>BB McCullum</td>\n",
       "      <td>P Kumar</td>\n",
       "      <td>2</td>\n",
       "      <td>0</td>\n",
       "      <td>0.3</td>\n",
       "      <td>2</td>\n",
       "      <td>0</td>\n",
       "      <td>0</td>\n",
       "      <td>0</td>\n",
       "      <td>222</td>\n",
       "    </tr>\n",
       "    <tr>\n",
       "      <th>4</th>\n",
       "      <td>1</td>\n",
       "      <td>2008-04-18</td>\n",
       "      <td>M Chinnaswamy Stadium</td>\n",
       "      <td>Kolkata Knight Riders</td>\n",
       "      <td>Royal Challengers Bangalore</td>\n",
       "      <td>BB McCullum</td>\n",
       "      <td>P Kumar</td>\n",
       "      <td>2</td>\n",
       "      <td>0</td>\n",
       "      <td>0.4</td>\n",
       "      <td>2</td>\n",
       "      <td>0</td>\n",
       "      <td>0</td>\n",
       "      <td>0</td>\n",
       "      <td>222</td>\n",
       "    </tr>\n",
       "    <tr>\n",
       "      <th>...</th>\n",
       "      <td>...</td>\n",
       "      <td>...</td>\n",
       "      <td>...</td>\n",
       "      <td>...</td>\n",
       "      <td>...</td>\n",
       "      <td>...</td>\n",
       "      <td>...</td>\n",
       "      <td>...</td>\n",
       "      <td>...</td>\n",
       "      <td>...</td>\n",
       "      <td>...</td>\n",
       "      <td>...</td>\n",
       "      <td>...</td>\n",
       "      <td>...</td>\n",
       "      <td>...</td>\n",
       "    </tr>\n",
       "    <tr>\n",
       "      <th>76009</th>\n",
       "      <td>617</td>\n",
       "      <td>2017-05-21</td>\n",
       "      <td>Rajiv Gandhi International Stadium, Uppal</td>\n",
       "      <td>Mumbai Indians</td>\n",
       "      <td>Rising Pune Supergiant</td>\n",
       "      <td>KH Pandya</td>\n",
       "      <td>DT Christian</td>\n",
       "      <td>121</td>\n",
       "      <td>7</td>\n",
       "      <td>19.2</td>\n",
       "      <td>40</td>\n",
       "      <td>0</td>\n",
       "      <td>40</td>\n",
       "      <td>12</td>\n",
       "      <td>129</td>\n",
       "    </tr>\n",
       "    <tr>\n",
       "      <th>76010</th>\n",
       "      <td>617</td>\n",
       "      <td>2017-05-21</td>\n",
       "      <td>Rajiv Gandhi International Stadium, Uppal</td>\n",
       "      <td>Mumbai Indians</td>\n",
       "      <td>Rising Pune Supergiant</td>\n",
       "      <td>KH Pandya</td>\n",
       "      <td>DT Christian</td>\n",
       "      <td>127</td>\n",
       "      <td>7</td>\n",
       "      <td>19.3</td>\n",
       "      <td>46</td>\n",
       "      <td>0</td>\n",
       "      <td>46</td>\n",
       "      <td>12</td>\n",
       "      <td>129</td>\n",
       "    </tr>\n",
       "    <tr>\n",
       "      <th>76011</th>\n",
       "      <td>617</td>\n",
       "      <td>2017-05-21</td>\n",
       "      <td>Rajiv Gandhi International Stadium, Uppal</td>\n",
       "      <td>Mumbai Indians</td>\n",
       "      <td>Rising Pune Supergiant</td>\n",
       "      <td>KH Pandya</td>\n",
       "      <td>DT Christian</td>\n",
       "      <td>128</td>\n",
       "      <td>7</td>\n",
       "      <td>19.4</td>\n",
       "      <td>47</td>\n",
       "      <td>0</td>\n",
       "      <td>47</td>\n",
       "      <td>12</td>\n",
       "      <td>129</td>\n",
       "    </tr>\n",
       "    <tr>\n",
       "      <th>76012</th>\n",
       "      <td>617</td>\n",
       "      <td>2017-05-21</td>\n",
       "      <td>Rajiv Gandhi International Stadium, Uppal</td>\n",
       "      <td>Mumbai Indians</td>\n",
       "      <td>Rising Pune Supergiant</td>\n",
       "      <td>MG Johnson</td>\n",
       "      <td>DT Christian</td>\n",
       "      <td>129</td>\n",
       "      <td>7</td>\n",
       "      <td>19.5</td>\n",
       "      <td>48</td>\n",
       "      <td>0</td>\n",
       "      <td>47</td>\n",
       "      <td>13</td>\n",
       "      <td>129</td>\n",
       "    </tr>\n",
       "    <tr>\n",
       "      <th>76013</th>\n",
       "      <td>617</td>\n",
       "      <td>2017-05-21</td>\n",
       "      <td>Rajiv Gandhi International Stadium, Uppal</td>\n",
       "      <td>Mumbai Indians</td>\n",
       "      <td>Rising Pune Supergiant</td>\n",
       "      <td>KH Pandya</td>\n",
       "      <td>DT Christian</td>\n",
       "      <td>129</td>\n",
       "      <td>8</td>\n",
       "      <td>19.6</td>\n",
       "      <td>47</td>\n",
       "      <td>1</td>\n",
       "      <td>47</td>\n",
       "      <td>13</td>\n",
       "      <td>129</td>\n",
       "    </tr>\n",
       "  </tbody>\n",
       "</table>\n",
       "<p>76014 rows × 15 columns</p>\n",
       "</div>"
      ],
      "text/plain": [
       "       mid        date                                      venue  \\\n",
       "0        1  2008-04-18                      M Chinnaswamy Stadium   \n",
       "1        1  2008-04-18                      M Chinnaswamy Stadium   \n",
       "2        1  2008-04-18                      M Chinnaswamy Stadium   \n",
       "3        1  2008-04-18                      M Chinnaswamy Stadium   \n",
       "4        1  2008-04-18                      M Chinnaswamy Stadium   \n",
       "...    ...         ...                                        ...   \n",
       "76009  617  2017-05-21  Rajiv Gandhi International Stadium, Uppal   \n",
       "76010  617  2017-05-21  Rajiv Gandhi International Stadium, Uppal   \n",
       "76011  617  2017-05-21  Rajiv Gandhi International Stadium, Uppal   \n",
       "76012  617  2017-05-21  Rajiv Gandhi International Stadium, Uppal   \n",
       "76013  617  2017-05-21  Rajiv Gandhi International Stadium, Uppal   \n",
       "\n",
       "                    bat_team                    bowl_team      batsman  \\\n",
       "0      Kolkata Knight Riders  Royal Challengers Bangalore   SC Ganguly   \n",
       "1      Kolkata Knight Riders  Royal Challengers Bangalore  BB McCullum   \n",
       "2      Kolkata Knight Riders  Royal Challengers Bangalore  BB McCullum   \n",
       "3      Kolkata Knight Riders  Royal Challengers Bangalore  BB McCullum   \n",
       "4      Kolkata Knight Riders  Royal Challengers Bangalore  BB McCullum   \n",
       "...                      ...                          ...          ...   \n",
       "76009         Mumbai Indians       Rising Pune Supergiant    KH Pandya   \n",
       "76010         Mumbai Indians       Rising Pune Supergiant    KH Pandya   \n",
       "76011         Mumbai Indians       Rising Pune Supergiant    KH Pandya   \n",
       "76012         Mumbai Indians       Rising Pune Supergiant   MG Johnson   \n",
       "76013         Mumbai Indians       Rising Pune Supergiant    KH Pandya   \n",
       "\n",
       "             bowler  runs  wickets  overs  runs_last_5  wickets_last_5  \\\n",
       "0           P Kumar     1        0    0.1            1               0   \n",
       "1           P Kumar     1        0    0.2            1               0   \n",
       "2           P Kumar     2        0    0.2            2               0   \n",
       "3           P Kumar     2        0    0.3            2               0   \n",
       "4           P Kumar     2        0    0.4            2               0   \n",
       "...             ...   ...      ...    ...          ...             ...   \n",
       "76009  DT Christian   121        7   19.2           40               0   \n",
       "76010  DT Christian   127        7   19.3           46               0   \n",
       "76011  DT Christian   128        7   19.4           47               0   \n",
       "76012  DT Christian   129        7   19.5           48               0   \n",
       "76013  DT Christian   129        8   19.6           47               1   \n",
       "\n",
       "       striker  non-striker  total  \n",
       "0            0            0    222  \n",
       "1            0            0    222  \n",
       "2            0            0    222  \n",
       "3            0            0    222  \n",
       "4            0            0    222  \n",
       "...        ...          ...    ...  \n",
       "76009       40           12    129  \n",
       "76010       46           12    129  \n",
       "76011       47           12    129  \n",
       "76012       47           13    129  \n",
       "76013       47           13    129  \n",
       "\n",
       "[76014 rows x 15 columns]"
      ]
     },
     "execution_count": 3,
     "metadata": {},
     "output_type": "execute_result"
    }
   ],
   "source": [
    "df"
   ]
  },
  {
   "cell_type": "code",
   "execution_count": 4,
   "id": "9869238a",
   "metadata": {},
   "outputs": [],
   "source": [
    "# --- Data Cleaning ---\n",
    "# Removing unwanted columns\n",
    "columns_to_remove = ['mid', 'venue', 'batsman', 'bowler', 'striker', 'non-striker']\n",
    "df.drop(labels=columns_to_remove, axis=1, inplace=True)"
   ]
  },
  {
   "cell_type": "code",
   "execution_count": 5,
   "id": "8dc6f08a",
   "metadata": {},
   "outputs": [
    {
     "data": {
      "text/html": [
       "<div>\n",
       "<style scoped>\n",
       "    .dataframe tbody tr th:only-of-type {\n",
       "        vertical-align: middle;\n",
       "    }\n",
       "\n",
       "    .dataframe tbody tr th {\n",
       "        vertical-align: top;\n",
       "    }\n",
       "\n",
       "    .dataframe thead th {\n",
       "        text-align: right;\n",
       "    }\n",
       "</style>\n",
       "<table border=\"1\" class=\"dataframe\">\n",
       "  <thead>\n",
       "    <tr style=\"text-align: right;\">\n",
       "      <th></th>\n",
       "      <th>date</th>\n",
       "      <th>bat_team</th>\n",
       "      <th>bowl_team</th>\n",
       "      <th>runs</th>\n",
       "      <th>wickets</th>\n",
       "      <th>overs</th>\n",
       "      <th>runs_last_5</th>\n",
       "      <th>wickets_last_5</th>\n",
       "      <th>total</th>\n",
       "    </tr>\n",
       "  </thead>\n",
       "  <tbody>\n",
       "    <tr>\n",
       "      <th>0</th>\n",
       "      <td>2008-04-18</td>\n",
       "      <td>Kolkata Knight Riders</td>\n",
       "      <td>Royal Challengers Bangalore</td>\n",
       "      <td>1</td>\n",
       "      <td>0</td>\n",
       "      <td>0.1</td>\n",
       "      <td>1</td>\n",
       "      <td>0</td>\n",
       "      <td>222</td>\n",
       "    </tr>\n",
       "    <tr>\n",
       "      <th>1</th>\n",
       "      <td>2008-04-18</td>\n",
       "      <td>Kolkata Knight Riders</td>\n",
       "      <td>Royal Challengers Bangalore</td>\n",
       "      <td>1</td>\n",
       "      <td>0</td>\n",
       "      <td>0.2</td>\n",
       "      <td>1</td>\n",
       "      <td>0</td>\n",
       "      <td>222</td>\n",
       "    </tr>\n",
       "    <tr>\n",
       "      <th>2</th>\n",
       "      <td>2008-04-18</td>\n",
       "      <td>Kolkata Knight Riders</td>\n",
       "      <td>Royal Challengers Bangalore</td>\n",
       "      <td>2</td>\n",
       "      <td>0</td>\n",
       "      <td>0.2</td>\n",
       "      <td>2</td>\n",
       "      <td>0</td>\n",
       "      <td>222</td>\n",
       "    </tr>\n",
       "    <tr>\n",
       "      <th>3</th>\n",
       "      <td>2008-04-18</td>\n",
       "      <td>Kolkata Knight Riders</td>\n",
       "      <td>Royal Challengers Bangalore</td>\n",
       "      <td>2</td>\n",
       "      <td>0</td>\n",
       "      <td>0.3</td>\n",
       "      <td>2</td>\n",
       "      <td>0</td>\n",
       "      <td>222</td>\n",
       "    </tr>\n",
       "    <tr>\n",
       "      <th>4</th>\n",
       "      <td>2008-04-18</td>\n",
       "      <td>Kolkata Knight Riders</td>\n",
       "      <td>Royal Challengers Bangalore</td>\n",
       "      <td>2</td>\n",
       "      <td>0</td>\n",
       "      <td>0.4</td>\n",
       "      <td>2</td>\n",
       "      <td>0</td>\n",
       "      <td>222</td>\n",
       "    </tr>\n",
       "  </tbody>\n",
       "</table>\n",
       "</div>"
      ],
      "text/plain": [
       "         date               bat_team                    bowl_team  runs  \\\n",
       "0  2008-04-18  Kolkata Knight Riders  Royal Challengers Bangalore     1   \n",
       "1  2008-04-18  Kolkata Knight Riders  Royal Challengers Bangalore     1   \n",
       "2  2008-04-18  Kolkata Knight Riders  Royal Challengers Bangalore     2   \n",
       "3  2008-04-18  Kolkata Knight Riders  Royal Challengers Bangalore     2   \n",
       "4  2008-04-18  Kolkata Knight Riders  Royal Challengers Bangalore     2   \n",
       "\n",
       "   wickets  overs  runs_last_5  wickets_last_5  total  \n",
       "0        0    0.1            1               0    222  \n",
       "1        0    0.2            1               0    222  \n",
       "2        0    0.2            2               0    222  \n",
       "3        0    0.3            2               0    222  \n",
       "4        0    0.4            2               0    222  "
      ]
     },
     "execution_count": 5,
     "metadata": {},
     "output_type": "execute_result"
    }
   ],
   "source": [
    "df.head()"
   ]
  },
  {
   "cell_type": "code",
   "execution_count": 6,
   "id": "bb4bedad",
   "metadata": {},
   "outputs": [],
   "source": [
    "df['bat_team'] = df['bat_team'].str.replace('Delhi Daredevils', 'Delhi Capitals')\n",
    "df['bowl_team'] = df['bowl_team'].str.replace('Delhi Daredevils', 'Delhi Capitals')\n",
    "\n",
    "df['bat_team'] = df['bat_team'].str.replace('Deccan Chargers', 'Sunrises Hyderabad')\n",
    "df['bowl_team'] = df['bowl_team'].str.replace('Deccan Chargers', 'Sunrises Hyderabad')\n",
    "\n",
    "df['bat_team'] = df['bat_team'].str.replace('Gujarat Lions', 'Gujarat Titans')\n",
    "df['bowl_team'] = df['bowl_team'].str.replace('Gujarat Lions', 'Gujarat Titans')\n",
    "\n",
    "df['bat_team'] = df['bat_team'].str.replace('Rising Pune Supergiants', 'Lucknow Super Giants')\n",
    "df['bowl_team'] = df['bowl_team'].str.replace('Rising Pune Supergiants', 'Lucknow Super Giants')\n"
   ]
  },
  {
   "cell_type": "code",
   "execution_count": 7,
   "id": "83d6659a",
   "metadata": {},
   "outputs": [
    {
     "data": {
      "text/plain": [
       "array(['Kolkata Knight Riders', 'Chennai Super Kings', 'Rajasthan Royals',\n",
       "       'Mumbai Indians', 'Sunrises Hyderabad', 'Kings XI Punjab',\n",
       "       'Royal Challengers Bangalore', 'Delhi Capitals',\n",
       "       'Kochi Tuskers Kerala', 'Pune Warriors', 'Sunrisers Hyderabad',\n",
       "       'Lucknow Super Giants', 'Gujarat Titans', 'Rising Pune Supergiant'],\n",
       "      dtype=object)"
      ]
     },
     "execution_count": 7,
     "metadata": {},
     "output_type": "execute_result"
    }
   ],
   "source": [
    "df['bat_team'].unique()"
   ]
  },
  {
   "cell_type": "code",
   "execution_count": 8,
   "id": "69bb91b2",
   "metadata": {},
   "outputs": [],
   "source": [
    "# Keeping only consistent teams\n",
    "consistent_teams = [\n",
    "    'Sunrisers Hyderabad',\n",
    "    'Mumbai Indians',\n",
    "    'Gujarat Titans',\n",
    "    'Royal Challengers Bangalore',\n",
    "    'Kolkata Knight Riders',\n",
    "    'Kings XI Punjab',\n",
    "    'Chennai Super Kings',\n",
    "    'Rajasthan Royals',\n",
    "    'Delhi Capitals',\n",
    "    'Lucknow Super Giants'\n",
    "]"
   ]
  },
  {
   "cell_type": "code",
   "execution_count": 9,
   "id": "794eac69",
   "metadata": {},
   "outputs": [],
   "source": [
    "df = df[(df['bat_team'].isin(consistent_teams)) & (df['bowl_team'].isin(consistent_teams))]"
   ]
  },
  {
   "cell_type": "code",
   "execution_count": 10,
   "id": "51e7b54d",
   "metadata": {},
   "outputs": [
    {
     "data": {
      "text/html": [
       "<div>\n",
       "<style scoped>\n",
       "    .dataframe tbody tr th:only-of-type {\n",
       "        vertical-align: middle;\n",
       "    }\n",
       "\n",
       "    .dataframe tbody tr th {\n",
       "        vertical-align: top;\n",
       "    }\n",
       "\n",
       "    .dataframe thead th {\n",
       "        text-align: right;\n",
       "    }\n",
       "</style>\n",
       "<table border=\"1\" class=\"dataframe\">\n",
       "  <thead>\n",
       "    <tr style=\"text-align: right;\">\n",
       "      <th></th>\n",
       "      <th>date</th>\n",
       "      <th>bat_team</th>\n",
       "      <th>bowl_team</th>\n",
       "      <th>runs</th>\n",
       "      <th>wickets</th>\n",
       "      <th>overs</th>\n",
       "      <th>runs_last_5</th>\n",
       "      <th>wickets_last_5</th>\n",
       "      <th>total</th>\n",
       "    </tr>\n",
       "  </thead>\n",
       "  <tbody>\n",
       "    <tr>\n",
       "      <th>0</th>\n",
       "      <td>2008-04-18</td>\n",
       "      <td>Kolkata Knight Riders</td>\n",
       "      <td>Royal Challengers Bangalore</td>\n",
       "      <td>1</td>\n",
       "      <td>0</td>\n",
       "      <td>0.1</td>\n",
       "      <td>1</td>\n",
       "      <td>0</td>\n",
       "      <td>222</td>\n",
       "    </tr>\n",
       "    <tr>\n",
       "      <th>1</th>\n",
       "      <td>2008-04-18</td>\n",
       "      <td>Kolkata Knight Riders</td>\n",
       "      <td>Royal Challengers Bangalore</td>\n",
       "      <td>1</td>\n",
       "      <td>0</td>\n",
       "      <td>0.2</td>\n",
       "      <td>1</td>\n",
       "      <td>0</td>\n",
       "      <td>222</td>\n",
       "    </tr>\n",
       "    <tr>\n",
       "      <th>2</th>\n",
       "      <td>2008-04-18</td>\n",
       "      <td>Kolkata Knight Riders</td>\n",
       "      <td>Royal Challengers Bangalore</td>\n",
       "      <td>2</td>\n",
       "      <td>0</td>\n",
       "      <td>0.2</td>\n",
       "      <td>2</td>\n",
       "      <td>0</td>\n",
       "      <td>222</td>\n",
       "    </tr>\n",
       "    <tr>\n",
       "      <th>3</th>\n",
       "      <td>2008-04-18</td>\n",
       "      <td>Kolkata Knight Riders</td>\n",
       "      <td>Royal Challengers Bangalore</td>\n",
       "      <td>2</td>\n",
       "      <td>0</td>\n",
       "      <td>0.3</td>\n",
       "      <td>2</td>\n",
       "      <td>0</td>\n",
       "      <td>222</td>\n",
       "    </tr>\n",
       "    <tr>\n",
       "      <th>4</th>\n",
       "      <td>2008-04-18</td>\n",
       "      <td>Kolkata Knight Riders</td>\n",
       "      <td>Royal Challengers Bangalore</td>\n",
       "      <td>2</td>\n",
       "      <td>0</td>\n",
       "      <td>0.4</td>\n",
       "      <td>2</td>\n",
       "      <td>0</td>\n",
       "      <td>222</td>\n",
       "    </tr>\n",
       "    <tr>\n",
       "      <th>...</th>\n",
       "      <td>...</td>\n",
       "      <td>...</td>\n",
       "      <td>...</td>\n",
       "      <td>...</td>\n",
       "      <td>...</td>\n",
       "      <td>...</td>\n",
       "      <td>...</td>\n",
       "      <td>...</td>\n",
       "      <td>...</td>\n",
       "    </tr>\n",
       "    <tr>\n",
       "      <th>75884</th>\n",
       "      <td>2017-05-19</td>\n",
       "      <td>Kolkata Knight Riders</td>\n",
       "      <td>Mumbai Indians</td>\n",
       "      <td>106</td>\n",
       "      <td>9</td>\n",
       "      <td>18.1</td>\n",
       "      <td>29</td>\n",
       "      <td>4</td>\n",
       "      <td>107</td>\n",
       "    </tr>\n",
       "    <tr>\n",
       "      <th>75885</th>\n",
       "      <td>2017-05-19</td>\n",
       "      <td>Kolkata Knight Riders</td>\n",
       "      <td>Mumbai Indians</td>\n",
       "      <td>107</td>\n",
       "      <td>9</td>\n",
       "      <td>18.2</td>\n",
       "      <td>29</td>\n",
       "      <td>4</td>\n",
       "      <td>107</td>\n",
       "    </tr>\n",
       "    <tr>\n",
       "      <th>75886</th>\n",
       "      <td>2017-05-19</td>\n",
       "      <td>Kolkata Knight Riders</td>\n",
       "      <td>Mumbai Indians</td>\n",
       "      <td>107</td>\n",
       "      <td>9</td>\n",
       "      <td>18.3</td>\n",
       "      <td>28</td>\n",
       "      <td>4</td>\n",
       "      <td>107</td>\n",
       "    </tr>\n",
       "    <tr>\n",
       "      <th>75887</th>\n",
       "      <td>2017-05-19</td>\n",
       "      <td>Kolkata Knight Riders</td>\n",
       "      <td>Mumbai Indians</td>\n",
       "      <td>107</td>\n",
       "      <td>9</td>\n",
       "      <td>18.4</td>\n",
       "      <td>24</td>\n",
       "      <td>4</td>\n",
       "      <td>107</td>\n",
       "    </tr>\n",
       "    <tr>\n",
       "      <th>75888</th>\n",
       "      <td>2017-05-19</td>\n",
       "      <td>Kolkata Knight Riders</td>\n",
       "      <td>Mumbai Indians</td>\n",
       "      <td>107</td>\n",
       "      <td>10</td>\n",
       "      <td>18.5</td>\n",
       "      <td>23</td>\n",
       "      <td>5</td>\n",
       "      <td>107</td>\n",
       "    </tr>\n",
       "  </tbody>\n",
       "</table>\n",
       "<p>58385 rows × 9 columns</p>\n",
       "</div>"
      ],
      "text/plain": [
       "             date               bat_team                    bowl_team  runs  \\\n",
       "0      2008-04-18  Kolkata Knight Riders  Royal Challengers Bangalore     1   \n",
       "1      2008-04-18  Kolkata Knight Riders  Royal Challengers Bangalore     1   \n",
       "2      2008-04-18  Kolkata Knight Riders  Royal Challengers Bangalore     2   \n",
       "3      2008-04-18  Kolkata Knight Riders  Royal Challengers Bangalore     2   \n",
       "4      2008-04-18  Kolkata Knight Riders  Royal Challengers Bangalore     2   \n",
       "...           ...                    ...                          ...   ...   \n",
       "75884  2017-05-19  Kolkata Knight Riders               Mumbai Indians   106   \n",
       "75885  2017-05-19  Kolkata Knight Riders               Mumbai Indians   107   \n",
       "75886  2017-05-19  Kolkata Knight Riders               Mumbai Indians   107   \n",
       "75887  2017-05-19  Kolkata Knight Riders               Mumbai Indians   107   \n",
       "75888  2017-05-19  Kolkata Knight Riders               Mumbai Indians   107   \n",
       "\n",
       "       wickets  overs  runs_last_5  wickets_last_5  total  \n",
       "0            0    0.1            1               0    222  \n",
       "1            0    0.2            1               0    222  \n",
       "2            0    0.2            2               0    222  \n",
       "3            0    0.3            2               0    222  \n",
       "4            0    0.4            2               0    222  \n",
       "...        ...    ...          ...             ...    ...  \n",
       "75884        9   18.1           29               4    107  \n",
       "75885        9   18.2           29               4    107  \n",
       "75886        9   18.3           28               4    107  \n",
       "75887        9   18.4           24               4    107  \n",
       "75888       10   18.5           23               5    107  \n",
       "\n",
       "[58385 rows x 9 columns]"
      ]
     },
     "execution_count": 10,
     "metadata": {},
     "output_type": "execute_result"
    }
   ],
   "source": [
    "df"
   ]
  },
  {
   "cell_type": "code",
   "execution_count": 11,
   "id": "bd365262",
   "metadata": {},
   "outputs": [],
   "source": [
    "# Removing the first 5 overs data in every match\n",
    "df = df[df['overs']>=5.0]"
   ]
  },
  {
   "cell_type": "code",
   "execution_count": 12,
   "id": "2d507ca6",
   "metadata": {},
   "outputs": [
    {
     "data": {
      "text/html": [
       "<div>\n",
       "<style scoped>\n",
       "    .dataframe tbody tr th:only-of-type {\n",
       "        vertical-align: middle;\n",
       "    }\n",
       "\n",
       "    .dataframe tbody tr th {\n",
       "        vertical-align: top;\n",
       "    }\n",
       "\n",
       "    .dataframe thead th {\n",
       "        text-align: right;\n",
       "    }\n",
       "</style>\n",
       "<table border=\"1\" class=\"dataframe\">\n",
       "  <thead>\n",
       "    <tr style=\"text-align: right;\">\n",
       "      <th></th>\n",
       "      <th>date</th>\n",
       "      <th>bat_team</th>\n",
       "      <th>bowl_team</th>\n",
       "      <th>runs</th>\n",
       "      <th>wickets</th>\n",
       "      <th>overs</th>\n",
       "      <th>runs_last_5</th>\n",
       "      <th>wickets_last_5</th>\n",
       "      <th>total</th>\n",
       "    </tr>\n",
       "  </thead>\n",
       "  <tbody>\n",
       "    <tr>\n",
       "      <th>32</th>\n",
       "      <td>2008-04-18</td>\n",
       "      <td>Kolkata Knight Riders</td>\n",
       "      <td>Royal Challengers Bangalore</td>\n",
       "      <td>61</td>\n",
       "      <td>0</td>\n",
       "      <td>5.1</td>\n",
       "      <td>59</td>\n",
       "      <td>0</td>\n",
       "      <td>222</td>\n",
       "    </tr>\n",
       "    <tr>\n",
       "      <th>33</th>\n",
       "      <td>2008-04-18</td>\n",
       "      <td>Kolkata Knight Riders</td>\n",
       "      <td>Royal Challengers Bangalore</td>\n",
       "      <td>61</td>\n",
       "      <td>1</td>\n",
       "      <td>5.2</td>\n",
       "      <td>59</td>\n",
       "      <td>1</td>\n",
       "      <td>222</td>\n",
       "    </tr>\n",
       "    <tr>\n",
       "      <th>34</th>\n",
       "      <td>2008-04-18</td>\n",
       "      <td>Kolkata Knight Riders</td>\n",
       "      <td>Royal Challengers Bangalore</td>\n",
       "      <td>61</td>\n",
       "      <td>1</td>\n",
       "      <td>5.3</td>\n",
       "      <td>59</td>\n",
       "      <td>1</td>\n",
       "      <td>222</td>\n",
       "    </tr>\n",
       "    <tr>\n",
       "      <th>35</th>\n",
       "      <td>2008-04-18</td>\n",
       "      <td>Kolkata Knight Riders</td>\n",
       "      <td>Royal Challengers Bangalore</td>\n",
       "      <td>61</td>\n",
       "      <td>1</td>\n",
       "      <td>5.4</td>\n",
       "      <td>59</td>\n",
       "      <td>1</td>\n",
       "      <td>222</td>\n",
       "    </tr>\n",
       "    <tr>\n",
       "      <th>36</th>\n",
       "      <td>2008-04-18</td>\n",
       "      <td>Kolkata Knight Riders</td>\n",
       "      <td>Royal Challengers Bangalore</td>\n",
       "      <td>61</td>\n",
       "      <td>1</td>\n",
       "      <td>5.5</td>\n",
       "      <td>58</td>\n",
       "      <td>1</td>\n",
       "      <td>222</td>\n",
       "    </tr>\n",
       "  </tbody>\n",
       "</table>\n",
       "</div>"
      ],
      "text/plain": [
       "          date               bat_team                    bowl_team  runs  \\\n",
       "32  2008-04-18  Kolkata Knight Riders  Royal Challengers Bangalore    61   \n",
       "33  2008-04-18  Kolkata Knight Riders  Royal Challengers Bangalore    61   \n",
       "34  2008-04-18  Kolkata Knight Riders  Royal Challengers Bangalore    61   \n",
       "35  2008-04-18  Kolkata Knight Riders  Royal Challengers Bangalore    61   \n",
       "36  2008-04-18  Kolkata Knight Riders  Royal Challengers Bangalore    61   \n",
       "\n",
       "    wickets  overs  runs_last_5  wickets_last_5  total  \n",
       "32        0    5.1           59               0    222  \n",
       "33        1    5.2           59               1    222  \n",
       "34        1    5.3           59               1    222  \n",
       "35        1    5.4           59               1    222  \n",
       "36        1    5.5           58               1    222  "
      ]
     },
     "execution_count": 12,
     "metadata": {},
     "output_type": "execute_result"
    }
   ],
   "source": [
    "df.head()"
   ]
  },
  {
   "cell_type": "code",
   "execution_count": 13,
   "id": "39ad1d82",
   "metadata": {},
   "outputs": [
    {
     "name": "stdout",
     "output_type": "stream",
     "text": [
      "['Kolkata Knight Riders' 'Chennai Super Kings' 'Rajasthan Royals'\n",
      " 'Mumbai Indians' 'Kings XI Punjab' 'Royal Challengers Bangalore'\n",
      " 'Delhi Capitals' 'Sunrisers Hyderabad' 'Lucknow Super Giants'\n",
      " 'Gujarat Titans']\n",
      "['Royal Challengers Bangalore' 'Kings XI Punjab' 'Delhi Capitals'\n",
      " 'Rajasthan Royals' 'Mumbai Indians' 'Chennai Super Kings'\n",
      " 'Kolkata Knight Riders' 'Sunrisers Hyderabad' 'Lucknow Super Giants'\n",
      " 'Gujarat Titans']\n"
     ]
    }
   ],
   "source": [
    "print(df['bat_team'].unique())\n",
    "print(df['bowl_team'].unique())"
   ]
  },
  {
   "cell_type": "code",
   "execution_count": 14,
   "id": "1b0f3baf",
   "metadata": {},
   "outputs": [
    {
     "name": "stderr",
     "output_type": "stream",
     "text": [
      "C:\\Users\\sachin kumar ray\\AppData\\Local\\Temp\\ipykernel_3864\\486738173.py:3: SettingWithCopyWarning: \n",
      "A value is trying to be set on a copy of a slice from a DataFrame.\n",
      "Try using .loc[row_indexer,col_indexer] = value instead\n",
      "\n",
      "See the caveats in the documentation: https://pandas.pydata.org/pandas-docs/stable/user_guide/indexing.html#returning-a-view-versus-a-copy\n",
      "  df['date'] = df['date'].apply(lambda x: datetime.strptime(x, '%Y-%m-%d'))\n"
     ]
    }
   ],
   "source": [
    "# Converting the column 'date' from string into datetime object\n",
    "from datetime import datetime\n",
    "df['date'] = df['date'].apply(lambda x: datetime.strptime(x, '%Y-%m-%d'))"
   ]
  },
  {
   "cell_type": "code",
   "execution_count": 15,
   "id": "d585bcfb",
   "metadata": {},
   "outputs": [],
   "source": [
    "# --- Data Preprocessing ---\n",
    "# Converting categorical features using OneHotEncoding method\n",
    "encoded_df = pd.get_dummies(data=df, columns=['bat_team', 'bowl_team'])"
   ]
  },
  {
   "cell_type": "code",
   "execution_count": 16,
   "id": "d111911f",
   "metadata": {},
   "outputs": [
    {
     "data": {
      "text/html": [
       "<div>\n",
       "<style scoped>\n",
       "    .dataframe tbody tr th:only-of-type {\n",
       "        vertical-align: middle;\n",
       "    }\n",
       "\n",
       "    .dataframe tbody tr th {\n",
       "        vertical-align: top;\n",
       "    }\n",
       "\n",
       "    .dataframe thead th {\n",
       "        text-align: right;\n",
       "    }\n",
       "</style>\n",
       "<table border=\"1\" class=\"dataframe\">\n",
       "  <thead>\n",
       "    <tr style=\"text-align: right;\">\n",
       "      <th></th>\n",
       "      <th>date</th>\n",
       "      <th>runs</th>\n",
       "      <th>wickets</th>\n",
       "      <th>overs</th>\n",
       "      <th>runs_last_5</th>\n",
       "      <th>wickets_last_5</th>\n",
       "      <th>total</th>\n",
       "      <th>bat_team_Chennai Super Kings</th>\n",
       "      <th>bat_team_Delhi Capitals</th>\n",
       "      <th>bat_team_Gujarat Titans</th>\n",
       "      <th>...</th>\n",
       "      <th>bowl_team_Chennai Super Kings</th>\n",
       "      <th>bowl_team_Delhi Capitals</th>\n",
       "      <th>bowl_team_Gujarat Titans</th>\n",
       "      <th>bowl_team_Kings XI Punjab</th>\n",
       "      <th>bowl_team_Kolkata Knight Riders</th>\n",
       "      <th>bowl_team_Lucknow Super Giants</th>\n",
       "      <th>bowl_team_Mumbai Indians</th>\n",
       "      <th>bowl_team_Rajasthan Royals</th>\n",
       "      <th>bowl_team_Royal Challengers Bangalore</th>\n",
       "      <th>bowl_team_Sunrisers Hyderabad</th>\n",
       "    </tr>\n",
       "  </thead>\n",
       "  <tbody>\n",
       "    <tr>\n",
       "      <th>32</th>\n",
       "      <td>2008-04-18</td>\n",
       "      <td>61</td>\n",
       "      <td>0</td>\n",
       "      <td>5.1</td>\n",
       "      <td>59</td>\n",
       "      <td>0</td>\n",
       "      <td>222</td>\n",
       "      <td>0</td>\n",
       "      <td>0</td>\n",
       "      <td>0</td>\n",
       "      <td>...</td>\n",
       "      <td>0</td>\n",
       "      <td>0</td>\n",
       "      <td>0</td>\n",
       "      <td>0</td>\n",
       "      <td>0</td>\n",
       "      <td>0</td>\n",
       "      <td>0</td>\n",
       "      <td>0</td>\n",
       "      <td>1</td>\n",
       "      <td>0</td>\n",
       "    </tr>\n",
       "    <tr>\n",
       "      <th>33</th>\n",
       "      <td>2008-04-18</td>\n",
       "      <td>61</td>\n",
       "      <td>1</td>\n",
       "      <td>5.2</td>\n",
       "      <td>59</td>\n",
       "      <td>1</td>\n",
       "      <td>222</td>\n",
       "      <td>0</td>\n",
       "      <td>0</td>\n",
       "      <td>0</td>\n",
       "      <td>...</td>\n",
       "      <td>0</td>\n",
       "      <td>0</td>\n",
       "      <td>0</td>\n",
       "      <td>0</td>\n",
       "      <td>0</td>\n",
       "      <td>0</td>\n",
       "      <td>0</td>\n",
       "      <td>0</td>\n",
       "      <td>1</td>\n",
       "      <td>0</td>\n",
       "    </tr>\n",
       "    <tr>\n",
       "      <th>34</th>\n",
       "      <td>2008-04-18</td>\n",
       "      <td>61</td>\n",
       "      <td>1</td>\n",
       "      <td>5.3</td>\n",
       "      <td>59</td>\n",
       "      <td>1</td>\n",
       "      <td>222</td>\n",
       "      <td>0</td>\n",
       "      <td>0</td>\n",
       "      <td>0</td>\n",
       "      <td>...</td>\n",
       "      <td>0</td>\n",
       "      <td>0</td>\n",
       "      <td>0</td>\n",
       "      <td>0</td>\n",
       "      <td>0</td>\n",
       "      <td>0</td>\n",
       "      <td>0</td>\n",
       "      <td>0</td>\n",
       "      <td>1</td>\n",
       "      <td>0</td>\n",
       "    </tr>\n",
       "    <tr>\n",
       "      <th>35</th>\n",
       "      <td>2008-04-18</td>\n",
       "      <td>61</td>\n",
       "      <td>1</td>\n",
       "      <td>5.4</td>\n",
       "      <td>59</td>\n",
       "      <td>1</td>\n",
       "      <td>222</td>\n",
       "      <td>0</td>\n",
       "      <td>0</td>\n",
       "      <td>0</td>\n",
       "      <td>...</td>\n",
       "      <td>0</td>\n",
       "      <td>0</td>\n",
       "      <td>0</td>\n",
       "      <td>0</td>\n",
       "      <td>0</td>\n",
       "      <td>0</td>\n",
       "      <td>0</td>\n",
       "      <td>0</td>\n",
       "      <td>1</td>\n",
       "      <td>0</td>\n",
       "    </tr>\n",
       "    <tr>\n",
       "      <th>36</th>\n",
       "      <td>2008-04-18</td>\n",
       "      <td>61</td>\n",
       "      <td>1</td>\n",
       "      <td>5.5</td>\n",
       "      <td>58</td>\n",
       "      <td>1</td>\n",
       "      <td>222</td>\n",
       "      <td>0</td>\n",
       "      <td>0</td>\n",
       "      <td>0</td>\n",
       "      <td>...</td>\n",
       "      <td>0</td>\n",
       "      <td>0</td>\n",
       "      <td>0</td>\n",
       "      <td>0</td>\n",
       "      <td>0</td>\n",
       "      <td>0</td>\n",
       "      <td>0</td>\n",
       "      <td>0</td>\n",
       "      <td>1</td>\n",
       "      <td>0</td>\n",
       "    </tr>\n",
       "  </tbody>\n",
       "</table>\n",
       "<p>5 rows × 27 columns</p>\n",
       "</div>"
      ],
      "text/plain": [
       "         date  runs  wickets  overs  runs_last_5  wickets_last_5  total  \\\n",
       "32 2008-04-18    61        0    5.1           59               0    222   \n",
       "33 2008-04-18    61        1    5.2           59               1    222   \n",
       "34 2008-04-18    61        1    5.3           59               1    222   \n",
       "35 2008-04-18    61        1    5.4           59               1    222   \n",
       "36 2008-04-18    61        1    5.5           58               1    222   \n",
       "\n",
       "    bat_team_Chennai Super Kings  bat_team_Delhi Capitals  \\\n",
       "32                             0                        0   \n",
       "33                             0                        0   \n",
       "34                             0                        0   \n",
       "35                             0                        0   \n",
       "36                             0                        0   \n",
       "\n",
       "    bat_team_Gujarat Titans  ...  bowl_team_Chennai Super Kings  \\\n",
       "32                        0  ...                              0   \n",
       "33                        0  ...                              0   \n",
       "34                        0  ...                              0   \n",
       "35                        0  ...                              0   \n",
       "36                        0  ...                              0   \n",
       "\n",
       "    bowl_team_Delhi Capitals  bowl_team_Gujarat Titans  \\\n",
       "32                         0                         0   \n",
       "33                         0                         0   \n",
       "34                         0                         0   \n",
       "35                         0                         0   \n",
       "36                         0                         0   \n",
       "\n",
       "    bowl_team_Kings XI Punjab  bowl_team_Kolkata Knight Riders  \\\n",
       "32                          0                                0   \n",
       "33                          0                                0   \n",
       "34                          0                                0   \n",
       "35                          0                                0   \n",
       "36                          0                                0   \n",
       "\n",
       "    bowl_team_Lucknow Super Giants  bowl_team_Mumbai Indians  \\\n",
       "32                               0                         0   \n",
       "33                               0                         0   \n",
       "34                               0                         0   \n",
       "35                               0                         0   \n",
       "36                               0                         0   \n",
       "\n",
       "    bowl_team_Rajasthan Royals  bowl_team_Royal Challengers Bangalore  \\\n",
       "32                           0                                      1   \n",
       "33                           0                                      1   \n",
       "34                           0                                      1   \n",
       "35                           0                                      1   \n",
       "36                           0                                      1   \n",
       "\n",
       "    bowl_team_Sunrisers Hyderabad  \n",
       "32                              0  \n",
       "33                              0  \n",
       "34                              0  \n",
       "35                              0  \n",
       "36                              0  \n",
       "\n",
       "[5 rows x 27 columns]"
      ]
     },
     "execution_count": 16,
     "metadata": {},
     "output_type": "execute_result"
    }
   ],
   "source": [
    "encoded_df.head()"
   ]
  },
  {
   "cell_type": "code",
   "execution_count": 17,
   "id": "cf2f0bd6",
   "metadata": {},
   "outputs": [
    {
     "data": {
      "text/plain": [
       "Index(['date', 'runs', 'wickets', 'overs', 'runs_last_5', 'wickets_last_5',\n",
       "       'total', 'bat_team_Chennai Super Kings', 'bat_team_Delhi Capitals',\n",
       "       'bat_team_Gujarat Titans', 'bat_team_Kings XI Punjab',\n",
       "       'bat_team_Kolkata Knight Riders', 'bat_team_Lucknow Super Giants',\n",
       "       'bat_team_Mumbai Indians', 'bat_team_Rajasthan Royals',\n",
       "       'bat_team_Royal Challengers Bangalore', 'bat_team_Sunrisers Hyderabad',\n",
       "       'bowl_team_Chennai Super Kings', 'bowl_team_Delhi Capitals',\n",
       "       'bowl_team_Gujarat Titans', 'bowl_team_Kings XI Punjab',\n",
       "       'bowl_team_Kolkata Knight Riders', 'bowl_team_Lucknow Super Giants',\n",
       "       'bowl_team_Mumbai Indians', 'bowl_team_Rajasthan Royals',\n",
       "       'bowl_team_Royal Challengers Bangalore',\n",
       "       'bowl_team_Sunrisers Hyderabad'],\n",
       "      dtype='object')"
      ]
     },
     "execution_count": 17,
     "metadata": {},
     "output_type": "execute_result"
    }
   ],
   "source": [
    "encoded_df.columns"
   ]
  },
  {
   "cell_type": "code",
   "execution_count": 18,
   "id": "585864c8",
   "metadata": {},
   "outputs": [],
   "source": [
    "# Rearranging the columns\n",
    "encoded_df = encoded_df[['date', 'bat_team_Chennai Super Kings', 'bat_team_Delhi Capitals', 'bat_team_Gujarat Titans', 'bat_team_Kings XI Punjab',\n",
    "              'bat_team_Kolkata Knight Riders', 'bat_team_Lucknow Super Giants', 'bat_team_Mumbai Indians', 'bat_team_Rajasthan Royals',\n",
    "              'bat_team_Royal Challengers Bangalore', 'bat_team_Sunrisers Hyderabad',\n",
    "              'bowl_team_Chennai Super Kings', 'bowl_team_Delhi Capitals', 'bowl_team_Gujarat Titans', 'bowl_team_Kings XI Punjab',\n",
    "              'bowl_team_Kolkata Knight Riders', 'bowl_team_Lucknow Super Giants', 'bowl_team_Mumbai Indians', 'bowl_team_Rajasthan Royals',\n",
    "              'bowl_team_Royal Challengers Bangalore', 'bowl_team_Sunrisers Hyderabad',\n",
    "              'overs', 'runs', 'wickets', 'runs_last_5', 'wickets_last_5', 'total']]"
   ]
  },
  {
   "cell_type": "code",
   "execution_count": 19,
   "id": "eaa91c9a",
   "metadata": {},
   "outputs": [],
   "source": [
    "# Rename columns\n",
    "encoded_df.columns = ['date', 'bat_team_Chennai_Super_Kings', 'bat_team_Delhi_Capitals', 'bat_team_Gujarat_Titans',\n",
    "       'bat_team_Kings_XI_Punjab', 'bat_team_Kolkata_Knight_Riders', 'bat_team_Lucknow_Super_Giants',\n",
    "       'bat_team_Mumbai_Indians', 'bat_team_Rajasthan_Royals',\n",
    "       'bat_team_Royal_Challengers_Bangalore', 'bat_team_Sunrisers_Hyderabad',\n",
    "       'bowl_team_Chennai_Super_Kings', 'bowl_team_Delhi_Capitals', 'bowl_team_Gujarat_Titans',\n",
    "       'bowl_team_Kings_XI_Punjab', 'bowl_team_Kolkata_Knight_Riders', 'bowl_team_Lucknow_Super_Giants',\n",
    "       'bowl_team_Mumbai_Indians', 'bowl_team_Rajasthan_Royals',\n",
    "       'bowl_team_Royal_Challengers_Bangalore',\n",
    "       'bowl_team_Sunrisers_Hyderabad', 'overs', 'runs', 'wickets',\n",
    "       'runs_last_5', 'wickets_last_5', 'total']"
   ]
  },
  {
   "cell_type": "code",
   "execution_count": 20,
   "id": "e6d214f1",
   "metadata": {},
   "outputs": [
    {
     "data": {
      "text/html": [
       "<div>\n",
       "<style scoped>\n",
       "    .dataframe tbody tr th:only-of-type {\n",
       "        vertical-align: middle;\n",
       "    }\n",
       "\n",
       "    .dataframe tbody tr th {\n",
       "        vertical-align: top;\n",
       "    }\n",
       "\n",
       "    .dataframe thead th {\n",
       "        text-align: right;\n",
       "    }\n",
       "</style>\n",
       "<table border=\"1\" class=\"dataframe\">\n",
       "  <thead>\n",
       "    <tr style=\"text-align: right;\">\n",
       "      <th></th>\n",
       "      <th>date</th>\n",
       "      <th>bat_team_Chennai_Super_Kings</th>\n",
       "      <th>bat_team_Delhi_Capitals</th>\n",
       "      <th>bat_team_Gujarat_Titans</th>\n",
       "      <th>bat_team_Kings_XI_Punjab</th>\n",
       "      <th>bat_team_Kolkata_Knight_Riders</th>\n",
       "      <th>bat_team_Lucknow_Super_Giants</th>\n",
       "      <th>bat_team_Mumbai_Indians</th>\n",
       "      <th>bat_team_Rajasthan_Royals</th>\n",
       "      <th>bat_team_Royal_Challengers_Bangalore</th>\n",
       "      <th>...</th>\n",
       "      <th>bowl_team_Mumbai_Indians</th>\n",
       "      <th>bowl_team_Rajasthan_Royals</th>\n",
       "      <th>bowl_team_Royal_Challengers_Bangalore</th>\n",
       "      <th>bowl_team_Sunrisers_Hyderabad</th>\n",
       "      <th>overs</th>\n",
       "      <th>runs</th>\n",
       "      <th>wickets</th>\n",
       "      <th>runs_last_5</th>\n",
       "      <th>wickets_last_5</th>\n",
       "      <th>total</th>\n",
       "    </tr>\n",
       "  </thead>\n",
       "  <tbody>\n",
       "    <tr>\n",
       "      <th>32</th>\n",
       "      <td>2008-04-18</td>\n",
       "      <td>0</td>\n",
       "      <td>0</td>\n",
       "      <td>0</td>\n",
       "      <td>0</td>\n",
       "      <td>1</td>\n",
       "      <td>0</td>\n",
       "      <td>0</td>\n",
       "      <td>0</td>\n",
       "      <td>0</td>\n",
       "      <td>...</td>\n",
       "      <td>0</td>\n",
       "      <td>0</td>\n",
       "      <td>1</td>\n",
       "      <td>0</td>\n",
       "      <td>5.1</td>\n",
       "      <td>61</td>\n",
       "      <td>0</td>\n",
       "      <td>59</td>\n",
       "      <td>0</td>\n",
       "      <td>222</td>\n",
       "    </tr>\n",
       "    <tr>\n",
       "      <th>33</th>\n",
       "      <td>2008-04-18</td>\n",
       "      <td>0</td>\n",
       "      <td>0</td>\n",
       "      <td>0</td>\n",
       "      <td>0</td>\n",
       "      <td>1</td>\n",
       "      <td>0</td>\n",
       "      <td>0</td>\n",
       "      <td>0</td>\n",
       "      <td>0</td>\n",
       "      <td>...</td>\n",
       "      <td>0</td>\n",
       "      <td>0</td>\n",
       "      <td>1</td>\n",
       "      <td>0</td>\n",
       "      <td>5.2</td>\n",
       "      <td>61</td>\n",
       "      <td>1</td>\n",
       "      <td>59</td>\n",
       "      <td>1</td>\n",
       "      <td>222</td>\n",
       "    </tr>\n",
       "    <tr>\n",
       "      <th>34</th>\n",
       "      <td>2008-04-18</td>\n",
       "      <td>0</td>\n",
       "      <td>0</td>\n",
       "      <td>0</td>\n",
       "      <td>0</td>\n",
       "      <td>1</td>\n",
       "      <td>0</td>\n",
       "      <td>0</td>\n",
       "      <td>0</td>\n",
       "      <td>0</td>\n",
       "      <td>...</td>\n",
       "      <td>0</td>\n",
       "      <td>0</td>\n",
       "      <td>1</td>\n",
       "      <td>0</td>\n",
       "      <td>5.3</td>\n",
       "      <td>61</td>\n",
       "      <td>1</td>\n",
       "      <td>59</td>\n",
       "      <td>1</td>\n",
       "      <td>222</td>\n",
       "    </tr>\n",
       "    <tr>\n",
       "      <th>35</th>\n",
       "      <td>2008-04-18</td>\n",
       "      <td>0</td>\n",
       "      <td>0</td>\n",
       "      <td>0</td>\n",
       "      <td>0</td>\n",
       "      <td>1</td>\n",
       "      <td>0</td>\n",
       "      <td>0</td>\n",
       "      <td>0</td>\n",
       "      <td>0</td>\n",
       "      <td>...</td>\n",
       "      <td>0</td>\n",
       "      <td>0</td>\n",
       "      <td>1</td>\n",
       "      <td>0</td>\n",
       "      <td>5.4</td>\n",
       "      <td>61</td>\n",
       "      <td>1</td>\n",
       "      <td>59</td>\n",
       "      <td>1</td>\n",
       "      <td>222</td>\n",
       "    </tr>\n",
       "    <tr>\n",
       "      <th>36</th>\n",
       "      <td>2008-04-18</td>\n",
       "      <td>0</td>\n",
       "      <td>0</td>\n",
       "      <td>0</td>\n",
       "      <td>0</td>\n",
       "      <td>1</td>\n",
       "      <td>0</td>\n",
       "      <td>0</td>\n",
       "      <td>0</td>\n",
       "      <td>0</td>\n",
       "      <td>...</td>\n",
       "      <td>0</td>\n",
       "      <td>0</td>\n",
       "      <td>1</td>\n",
       "      <td>0</td>\n",
       "      <td>5.5</td>\n",
       "      <td>61</td>\n",
       "      <td>1</td>\n",
       "      <td>58</td>\n",
       "      <td>1</td>\n",
       "      <td>222</td>\n",
       "    </tr>\n",
       "    <tr>\n",
       "      <th>...</th>\n",
       "      <td>...</td>\n",
       "      <td>...</td>\n",
       "      <td>...</td>\n",
       "      <td>...</td>\n",
       "      <td>...</td>\n",
       "      <td>...</td>\n",
       "      <td>...</td>\n",
       "      <td>...</td>\n",
       "      <td>...</td>\n",
       "      <td>...</td>\n",
       "      <td>...</td>\n",
       "      <td>...</td>\n",
       "      <td>...</td>\n",
       "      <td>...</td>\n",
       "      <td>...</td>\n",
       "      <td>...</td>\n",
       "      <td>...</td>\n",
       "      <td>...</td>\n",
       "      <td>...</td>\n",
       "      <td>...</td>\n",
       "      <td>...</td>\n",
       "    </tr>\n",
       "    <tr>\n",
       "      <th>75884</th>\n",
       "      <td>2017-05-19</td>\n",
       "      <td>0</td>\n",
       "      <td>0</td>\n",
       "      <td>0</td>\n",
       "      <td>0</td>\n",
       "      <td>1</td>\n",
       "      <td>0</td>\n",
       "      <td>0</td>\n",
       "      <td>0</td>\n",
       "      <td>0</td>\n",
       "      <td>...</td>\n",
       "      <td>1</td>\n",
       "      <td>0</td>\n",
       "      <td>0</td>\n",
       "      <td>0</td>\n",
       "      <td>18.1</td>\n",
       "      <td>106</td>\n",
       "      <td>9</td>\n",
       "      <td>29</td>\n",
       "      <td>4</td>\n",
       "      <td>107</td>\n",
       "    </tr>\n",
       "    <tr>\n",
       "      <th>75885</th>\n",
       "      <td>2017-05-19</td>\n",
       "      <td>0</td>\n",
       "      <td>0</td>\n",
       "      <td>0</td>\n",
       "      <td>0</td>\n",
       "      <td>1</td>\n",
       "      <td>0</td>\n",
       "      <td>0</td>\n",
       "      <td>0</td>\n",
       "      <td>0</td>\n",
       "      <td>...</td>\n",
       "      <td>1</td>\n",
       "      <td>0</td>\n",
       "      <td>0</td>\n",
       "      <td>0</td>\n",
       "      <td>18.2</td>\n",
       "      <td>107</td>\n",
       "      <td>9</td>\n",
       "      <td>29</td>\n",
       "      <td>4</td>\n",
       "      <td>107</td>\n",
       "    </tr>\n",
       "    <tr>\n",
       "      <th>75886</th>\n",
       "      <td>2017-05-19</td>\n",
       "      <td>0</td>\n",
       "      <td>0</td>\n",
       "      <td>0</td>\n",
       "      <td>0</td>\n",
       "      <td>1</td>\n",
       "      <td>0</td>\n",
       "      <td>0</td>\n",
       "      <td>0</td>\n",
       "      <td>0</td>\n",
       "      <td>...</td>\n",
       "      <td>1</td>\n",
       "      <td>0</td>\n",
       "      <td>0</td>\n",
       "      <td>0</td>\n",
       "      <td>18.3</td>\n",
       "      <td>107</td>\n",
       "      <td>9</td>\n",
       "      <td>28</td>\n",
       "      <td>4</td>\n",
       "      <td>107</td>\n",
       "    </tr>\n",
       "    <tr>\n",
       "      <th>75887</th>\n",
       "      <td>2017-05-19</td>\n",
       "      <td>0</td>\n",
       "      <td>0</td>\n",
       "      <td>0</td>\n",
       "      <td>0</td>\n",
       "      <td>1</td>\n",
       "      <td>0</td>\n",
       "      <td>0</td>\n",
       "      <td>0</td>\n",
       "      <td>0</td>\n",
       "      <td>...</td>\n",
       "      <td>1</td>\n",
       "      <td>0</td>\n",
       "      <td>0</td>\n",
       "      <td>0</td>\n",
       "      <td>18.4</td>\n",
       "      <td>107</td>\n",
       "      <td>9</td>\n",
       "      <td>24</td>\n",
       "      <td>4</td>\n",
       "      <td>107</td>\n",
       "    </tr>\n",
       "    <tr>\n",
       "      <th>75888</th>\n",
       "      <td>2017-05-19</td>\n",
       "      <td>0</td>\n",
       "      <td>0</td>\n",
       "      <td>0</td>\n",
       "      <td>0</td>\n",
       "      <td>1</td>\n",
       "      <td>0</td>\n",
       "      <td>0</td>\n",
       "      <td>0</td>\n",
       "      <td>0</td>\n",
       "      <td>...</td>\n",
       "      <td>1</td>\n",
       "      <td>0</td>\n",
       "      <td>0</td>\n",
       "      <td>0</td>\n",
       "      <td>18.5</td>\n",
       "      <td>107</td>\n",
       "      <td>10</td>\n",
       "      <td>23</td>\n",
       "      <td>5</td>\n",
       "      <td>107</td>\n",
       "    </tr>\n",
       "  </tbody>\n",
       "</table>\n",
       "<p>43538 rows × 27 columns</p>\n",
       "</div>"
      ],
      "text/plain": [
       "            date  bat_team_Chennai_Super_Kings  bat_team_Delhi_Capitals  \\\n",
       "32    2008-04-18                             0                        0   \n",
       "33    2008-04-18                             0                        0   \n",
       "34    2008-04-18                             0                        0   \n",
       "35    2008-04-18                             0                        0   \n",
       "36    2008-04-18                             0                        0   \n",
       "...          ...                           ...                      ...   \n",
       "75884 2017-05-19                             0                        0   \n",
       "75885 2017-05-19                             0                        0   \n",
       "75886 2017-05-19                             0                        0   \n",
       "75887 2017-05-19                             0                        0   \n",
       "75888 2017-05-19                             0                        0   \n",
       "\n",
       "       bat_team_Gujarat_Titans  bat_team_Kings_XI_Punjab  \\\n",
       "32                           0                         0   \n",
       "33                           0                         0   \n",
       "34                           0                         0   \n",
       "35                           0                         0   \n",
       "36                           0                         0   \n",
       "...                        ...                       ...   \n",
       "75884                        0                         0   \n",
       "75885                        0                         0   \n",
       "75886                        0                         0   \n",
       "75887                        0                         0   \n",
       "75888                        0                         0   \n",
       "\n",
       "       bat_team_Kolkata_Knight_Riders  bat_team_Lucknow_Super_Giants  \\\n",
       "32                                  1                              0   \n",
       "33                                  1                              0   \n",
       "34                                  1                              0   \n",
       "35                                  1                              0   \n",
       "36                                  1                              0   \n",
       "...                               ...                            ...   \n",
       "75884                               1                              0   \n",
       "75885                               1                              0   \n",
       "75886                               1                              0   \n",
       "75887                               1                              0   \n",
       "75888                               1                              0   \n",
       "\n",
       "       bat_team_Mumbai_Indians  bat_team_Rajasthan_Royals  \\\n",
       "32                           0                          0   \n",
       "33                           0                          0   \n",
       "34                           0                          0   \n",
       "35                           0                          0   \n",
       "36                           0                          0   \n",
       "...                        ...                        ...   \n",
       "75884                        0                          0   \n",
       "75885                        0                          0   \n",
       "75886                        0                          0   \n",
       "75887                        0                          0   \n",
       "75888                        0                          0   \n",
       "\n",
       "       bat_team_Royal_Challengers_Bangalore  ...  bowl_team_Mumbai_Indians  \\\n",
       "32                                        0  ...                         0   \n",
       "33                                        0  ...                         0   \n",
       "34                                        0  ...                         0   \n",
       "35                                        0  ...                         0   \n",
       "36                                        0  ...                         0   \n",
       "...                                     ...  ...                       ...   \n",
       "75884                                     0  ...                         1   \n",
       "75885                                     0  ...                         1   \n",
       "75886                                     0  ...                         1   \n",
       "75887                                     0  ...                         1   \n",
       "75888                                     0  ...                         1   \n",
       "\n",
       "       bowl_team_Rajasthan_Royals  bowl_team_Royal_Challengers_Bangalore  \\\n",
       "32                              0                                      1   \n",
       "33                              0                                      1   \n",
       "34                              0                                      1   \n",
       "35                              0                                      1   \n",
       "36                              0                                      1   \n",
       "...                           ...                                    ...   \n",
       "75884                           0                                      0   \n",
       "75885                           0                                      0   \n",
       "75886                           0                                      0   \n",
       "75887                           0                                      0   \n",
       "75888                           0                                      0   \n",
       "\n",
       "       bowl_team_Sunrisers_Hyderabad  overs  runs  wickets  runs_last_5  \\\n",
       "32                                 0    5.1    61        0           59   \n",
       "33                                 0    5.2    61        1           59   \n",
       "34                                 0    5.3    61        1           59   \n",
       "35                                 0    5.4    61        1           59   \n",
       "36                                 0    5.5    61        1           58   \n",
       "...                              ...    ...   ...      ...          ...   \n",
       "75884                              0   18.1   106        9           29   \n",
       "75885                              0   18.2   107        9           29   \n",
       "75886                              0   18.3   107        9           28   \n",
       "75887                              0   18.4   107        9           24   \n",
       "75888                              0   18.5   107       10           23   \n",
       "\n",
       "       wickets_last_5  total  \n",
       "32                  0    222  \n",
       "33                  1    222  \n",
       "34                  1    222  \n",
       "35                  1    222  \n",
       "36                  1    222  \n",
       "...               ...    ...  \n",
       "75884               4    107  \n",
       "75885               4    107  \n",
       "75886               4    107  \n",
       "75887               4    107  \n",
       "75888               5    107  \n",
       "\n",
       "[43538 rows x 27 columns]"
      ]
     },
     "execution_count": 20,
     "metadata": {},
     "output_type": "execute_result"
    }
   ],
   "source": [
    "encoded_df"
   ]
  },
  {
   "cell_type": "code",
   "execution_count": 21,
   "id": "d1cff76c",
   "metadata": {},
   "outputs": [],
   "source": [
    "# Splitting the data into train and test set\n",
    "X_train = encoded_df.drop(labels='total', axis=1)[encoded_df['date'].dt.year <= 2016]\n",
    "X_test = encoded_df.drop(labels='total', axis=1)[encoded_df['date'].dt.year >= 2017]"
   ]
  },
  {
   "cell_type": "code",
   "execution_count": 22,
   "id": "3d951439",
   "metadata": {},
   "outputs": [],
   "source": [
    "y_train = encoded_df[encoded_df['date'].dt.year <= 2016]['total'].values\n",
    "y_test = encoded_df[encoded_df['date'].dt.year >= 2017]['total'].values"
   ]
  },
  {
   "cell_type": "code",
   "execution_count": 23,
   "id": "56243c61",
   "metadata": {},
   "outputs": [],
   "source": [
    "# Removing the 'date' column\n",
    "X_train.drop(labels='date', axis=True, inplace=True)\n",
    "X_test.drop(labels='date', axis=True, inplace=True)"
   ]
  },
  {
   "cell_type": "code",
   "execution_count": 24,
   "id": "70706781",
   "metadata": {},
   "outputs": [
    {
     "data": {
      "text/html": [
       "<div>\n",
       "<style scoped>\n",
       "    .dataframe tbody tr th:only-of-type {\n",
       "        vertical-align: middle;\n",
       "    }\n",
       "\n",
       "    .dataframe tbody tr th {\n",
       "        vertical-align: top;\n",
       "    }\n",
       "\n",
       "    .dataframe thead th {\n",
       "        text-align: right;\n",
       "    }\n",
       "</style>\n",
       "<table border=\"1\" class=\"dataframe\">\n",
       "  <thead>\n",
       "    <tr style=\"text-align: right;\">\n",
       "      <th></th>\n",
       "      <th>bat_team_Chennai_Super_Kings</th>\n",
       "      <th>bat_team_Delhi_Capitals</th>\n",
       "      <th>bat_team_Gujarat_Titans</th>\n",
       "      <th>bat_team_Kings_XI_Punjab</th>\n",
       "      <th>bat_team_Kolkata_Knight_Riders</th>\n",
       "      <th>bat_team_Lucknow_Super_Giants</th>\n",
       "      <th>bat_team_Mumbai_Indians</th>\n",
       "      <th>bat_team_Rajasthan_Royals</th>\n",
       "      <th>bat_team_Royal_Challengers_Bangalore</th>\n",
       "      <th>bat_team_Sunrisers_Hyderabad</th>\n",
       "      <th>...</th>\n",
       "      <th>bowl_team_Lucknow_Super_Giants</th>\n",
       "      <th>bowl_team_Mumbai_Indians</th>\n",
       "      <th>bowl_team_Rajasthan_Royals</th>\n",
       "      <th>bowl_team_Royal_Challengers_Bangalore</th>\n",
       "      <th>bowl_team_Sunrisers_Hyderabad</th>\n",
       "      <th>overs</th>\n",
       "      <th>runs</th>\n",
       "      <th>wickets</th>\n",
       "      <th>runs_last_5</th>\n",
       "      <th>wickets_last_5</th>\n",
       "    </tr>\n",
       "  </thead>\n",
       "  <tbody>\n",
       "    <tr>\n",
       "      <th>32</th>\n",
       "      <td>0</td>\n",
       "      <td>0</td>\n",
       "      <td>0</td>\n",
       "      <td>0</td>\n",
       "      <td>1</td>\n",
       "      <td>0</td>\n",
       "      <td>0</td>\n",
       "      <td>0</td>\n",
       "      <td>0</td>\n",
       "      <td>0</td>\n",
       "      <td>...</td>\n",
       "      <td>0</td>\n",
       "      <td>0</td>\n",
       "      <td>0</td>\n",
       "      <td>1</td>\n",
       "      <td>0</td>\n",
       "      <td>5.1</td>\n",
       "      <td>61</td>\n",
       "      <td>0</td>\n",
       "      <td>59</td>\n",
       "      <td>0</td>\n",
       "    </tr>\n",
       "    <tr>\n",
       "      <th>33</th>\n",
       "      <td>0</td>\n",
       "      <td>0</td>\n",
       "      <td>0</td>\n",
       "      <td>0</td>\n",
       "      <td>1</td>\n",
       "      <td>0</td>\n",
       "      <td>0</td>\n",
       "      <td>0</td>\n",
       "      <td>0</td>\n",
       "      <td>0</td>\n",
       "      <td>...</td>\n",
       "      <td>0</td>\n",
       "      <td>0</td>\n",
       "      <td>0</td>\n",
       "      <td>1</td>\n",
       "      <td>0</td>\n",
       "      <td>5.2</td>\n",
       "      <td>61</td>\n",
       "      <td>1</td>\n",
       "      <td>59</td>\n",
       "      <td>1</td>\n",
       "    </tr>\n",
       "    <tr>\n",
       "      <th>34</th>\n",
       "      <td>0</td>\n",
       "      <td>0</td>\n",
       "      <td>0</td>\n",
       "      <td>0</td>\n",
       "      <td>1</td>\n",
       "      <td>0</td>\n",
       "      <td>0</td>\n",
       "      <td>0</td>\n",
       "      <td>0</td>\n",
       "      <td>0</td>\n",
       "      <td>...</td>\n",
       "      <td>0</td>\n",
       "      <td>0</td>\n",
       "      <td>0</td>\n",
       "      <td>1</td>\n",
       "      <td>0</td>\n",
       "      <td>5.3</td>\n",
       "      <td>61</td>\n",
       "      <td>1</td>\n",
       "      <td>59</td>\n",
       "      <td>1</td>\n",
       "    </tr>\n",
       "    <tr>\n",
       "      <th>35</th>\n",
       "      <td>0</td>\n",
       "      <td>0</td>\n",
       "      <td>0</td>\n",
       "      <td>0</td>\n",
       "      <td>1</td>\n",
       "      <td>0</td>\n",
       "      <td>0</td>\n",
       "      <td>0</td>\n",
       "      <td>0</td>\n",
       "      <td>0</td>\n",
       "      <td>...</td>\n",
       "      <td>0</td>\n",
       "      <td>0</td>\n",
       "      <td>0</td>\n",
       "      <td>1</td>\n",
       "      <td>0</td>\n",
       "      <td>5.4</td>\n",
       "      <td>61</td>\n",
       "      <td>1</td>\n",
       "      <td>59</td>\n",
       "      <td>1</td>\n",
       "    </tr>\n",
       "    <tr>\n",
       "      <th>36</th>\n",
       "      <td>0</td>\n",
       "      <td>0</td>\n",
       "      <td>0</td>\n",
       "      <td>0</td>\n",
       "      <td>1</td>\n",
       "      <td>0</td>\n",
       "      <td>0</td>\n",
       "      <td>0</td>\n",
       "      <td>0</td>\n",
       "      <td>0</td>\n",
       "      <td>...</td>\n",
       "      <td>0</td>\n",
       "      <td>0</td>\n",
       "      <td>0</td>\n",
       "      <td>1</td>\n",
       "      <td>0</td>\n",
       "      <td>5.5</td>\n",
       "      <td>61</td>\n",
       "      <td>1</td>\n",
       "      <td>58</td>\n",
       "      <td>1</td>\n",
       "    </tr>\n",
       "    <tr>\n",
       "      <th>...</th>\n",
       "      <td>...</td>\n",
       "      <td>...</td>\n",
       "      <td>...</td>\n",
       "      <td>...</td>\n",
       "      <td>...</td>\n",
       "      <td>...</td>\n",
       "      <td>...</td>\n",
       "      <td>...</td>\n",
       "      <td>...</td>\n",
       "      <td>...</td>\n",
       "      <td>...</td>\n",
       "      <td>...</td>\n",
       "      <td>...</td>\n",
       "      <td>...</td>\n",
       "      <td>...</td>\n",
       "      <td>...</td>\n",
       "      <td>...</td>\n",
       "      <td>...</td>\n",
       "      <td>...</td>\n",
       "      <td>...</td>\n",
       "      <td>...</td>\n",
       "    </tr>\n",
       "    <tr>\n",
       "      <th>68857</th>\n",
       "      <td>0</td>\n",
       "      <td>0</td>\n",
       "      <td>0</td>\n",
       "      <td>0</td>\n",
       "      <td>0</td>\n",
       "      <td>0</td>\n",
       "      <td>0</td>\n",
       "      <td>0</td>\n",
       "      <td>0</td>\n",
       "      <td>1</td>\n",
       "      <td>...</td>\n",
       "      <td>0</td>\n",
       "      <td>0</td>\n",
       "      <td>0</td>\n",
       "      <td>1</td>\n",
       "      <td>0</td>\n",
       "      <td>19.2</td>\n",
       "      <td>194</td>\n",
       "      <td>7</td>\n",
       "      <td>54</td>\n",
       "      <td>4</td>\n",
       "    </tr>\n",
       "    <tr>\n",
       "      <th>68858</th>\n",
       "      <td>0</td>\n",
       "      <td>0</td>\n",
       "      <td>0</td>\n",
       "      <td>0</td>\n",
       "      <td>0</td>\n",
       "      <td>0</td>\n",
       "      <td>0</td>\n",
       "      <td>0</td>\n",
       "      <td>0</td>\n",
       "      <td>1</td>\n",
       "      <td>...</td>\n",
       "      <td>0</td>\n",
       "      <td>0</td>\n",
       "      <td>0</td>\n",
       "      <td>1</td>\n",
       "      <td>0</td>\n",
       "      <td>19.3</td>\n",
       "      <td>200</td>\n",
       "      <td>7</td>\n",
       "      <td>56</td>\n",
       "      <td>4</td>\n",
       "    </tr>\n",
       "    <tr>\n",
       "      <th>68859</th>\n",
       "      <td>0</td>\n",
       "      <td>0</td>\n",
       "      <td>0</td>\n",
       "      <td>0</td>\n",
       "      <td>0</td>\n",
       "      <td>0</td>\n",
       "      <td>0</td>\n",
       "      <td>0</td>\n",
       "      <td>0</td>\n",
       "      <td>1</td>\n",
       "      <td>...</td>\n",
       "      <td>0</td>\n",
       "      <td>0</td>\n",
       "      <td>0</td>\n",
       "      <td>1</td>\n",
       "      <td>0</td>\n",
       "      <td>19.4</td>\n",
       "      <td>201</td>\n",
       "      <td>7</td>\n",
       "      <td>56</td>\n",
       "      <td>4</td>\n",
       "    </tr>\n",
       "    <tr>\n",
       "      <th>68860</th>\n",
       "      <td>0</td>\n",
       "      <td>0</td>\n",
       "      <td>0</td>\n",
       "      <td>0</td>\n",
       "      <td>0</td>\n",
       "      <td>0</td>\n",
       "      <td>0</td>\n",
       "      <td>0</td>\n",
       "      <td>0</td>\n",
       "      <td>1</td>\n",
       "      <td>...</td>\n",
       "      <td>0</td>\n",
       "      <td>0</td>\n",
       "      <td>0</td>\n",
       "      <td>1</td>\n",
       "      <td>0</td>\n",
       "      <td>19.5</td>\n",
       "      <td>202</td>\n",
       "      <td>7</td>\n",
       "      <td>57</td>\n",
       "      <td>4</td>\n",
       "    </tr>\n",
       "    <tr>\n",
       "      <th>68861</th>\n",
       "      <td>0</td>\n",
       "      <td>0</td>\n",
       "      <td>0</td>\n",
       "      <td>0</td>\n",
       "      <td>0</td>\n",
       "      <td>0</td>\n",
       "      <td>0</td>\n",
       "      <td>0</td>\n",
       "      <td>0</td>\n",
       "      <td>1</td>\n",
       "      <td>...</td>\n",
       "      <td>0</td>\n",
       "      <td>0</td>\n",
       "      <td>0</td>\n",
       "      <td>1</td>\n",
       "      <td>0</td>\n",
       "      <td>19.6</td>\n",
       "      <td>208</td>\n",
       "      <td>7</td>\n",
       "      <td>62</td>\n",
       "      <td>4</td>\n",
       "    </tr>\n",
       "  </tbody>\n",
       "</table>\n",
       "<p>39658 rows × 25 columns</p>\n",
       "</div>"
      ],
      "text/plain": [
       "       bat_team_Chennai_Super_Kings  bat_team_Delhi_Capitals  \\\n",
       "32                                0                        0   \n",
       "33                                0                        0   \n",
       "34                                0                        0   \n",
       "35                                0                        0   \n",
       "36                                0                        0   \n",
       "...                             ...                      ...   \n",
       "68857                             0                        0   \n",
       "68858                             0                        0   \n",
       "68859                             0                        0   \n",
       "68860                             0                        0   \n",
       "68861                             0                        0   \n",
       "\n",
       "       bat_team_Gujarat_Titans  bat_team_Kings_XI_Punjab  \\\n",
       "32                           0                         0   \n",
       "33                           0                         0   \n",
       "34                           0                         0   \n",
       "35                           0                         0   \n",
       "36                           0                         0   \n",
       "...                        ...                       ...   \n",
       "68857                        0                         0   \n",
       "68858                        0                         0   \n",
       "68859                        0                         0   \n",
       "68860                        0                         0   \n",
       "68861                        0                         0   \n",
       "\n",
       "       bat_team_Kolkata_Knight_Riders  bat_team_Lucknow_Super_Giants  \\\n",
       "32                                  1                              0   \n",
       "33                                  1                              0   \n",
       "34                                  1                              0   \n",
       "35                                  1                              0   \n",
       "36                                  1                              0   \n",
       "...                               ...                            ...   \n",
       "68857                               0                              0   \n",
       "68858                               0                              0   \n",
       "68859                               0                              0   \n",
       "68860                               0                              0   \n",
       "68861                               0                              0   \n",
       "\n",
       "       bat_team_Mumbai_Indians  bat_team_Rajasthan_Royals  \\\n",
       "32                           0                          0   \n",
       "33                           0                          0   \n",
       "34                           0                          0   \n",
       "35                           0                          0   \n",
       "36                           0                          0   \n",
       "...                        ...                        ...   \n",
       "68857                        0                          0   \n",
       "68858                        0                          0   \n",
       "68859                        0                          0   \n",
       "68860                        0                          0   \n",
       "68861                        0                          0   \n",
       "\n",
       "       bat_team_Royal_Challengers_Bangalore  bat_team_Sunrisers_Hyderabad  \\\n",
       "32                                        0                             0   \n",
       "33                                        0                             0   \n",
       "34                                        0                             0   \n",
       "35                                        0                             0   \n",
       "36                                        0                             0   \n",
       "...                                     ...                           ...   \n",
       "68857                                     0                             1   \n",
       "68858                                     0                             1   \n",
       "68859                                     0                             1   \n",
       "68860                                     0                             1   \n",
       "68861                                     0                             1   \n",
       "\n",
       "       ...  bowl_team_Lucknow_Super_Giants  bowl_team_Mumbai_Indians  \\\n",
       "32     ...                               0                         0   \n",
       "33     ...                               0                         0   \n",
       "34     ...                               0                         0   \n",
       "35     ...                               0                         0   \n",
       "36     ...                               0                         0   \n",
       "...    ...                             ...                       ...   \n",
       "68857  ...                               0                         0   \n",
       "68858  ...                               0                         0   \n",
       "68859  ...                               0                         0   \n",
       "68860  ...                               0                         0   \n",
       "68861  ...                               0                         0   \n",
       "\n",
       "       bowl_team_Rajasthan_Royals  bowl_team_Royal_Challengers_Bangalore  \\\n",
       "32                              0                                      1   \n",
       "33                              0                                      1   \n",
       "34                              0                                      1   \n",
       "35                              0                                      1   \n",
       "36                              0                                      1   \n",
       "...                           ...                                    ...   \n",
       "68857                           0                                      1   \n",
       "68858                           0                                      1   \n",
       "68859                           0                                      1   \n",
       "68860                           0                                      1   \n",
       "68861                           0                                      1   \n",
       "\n",
       "       bowl_team_Sunrisers_Hyderabad  overs  runs  wickets  runs_last_5  \\\n",
       "32                                 0    5.1    61        0           59   \n",
       "33                                 0    5.2    61        1           59   \n",
       "34                                 0    5.3    61        1           59   \n",
       "35                                 0    5.4    61        1           59   \n",
       "36                                 0    5.5    61        1           58   \n",
       "...                              ...    ...   ...      ...          ...   \n",
       "68857                              0   19.2   194        7           54   \n",
       "68858                              0   19.3   200        7           56   \n",
       "68859                              0   19.4   201        7           56   \n",
       "68860                              0   19.5   202        7           57   \n",
       "68861                              0   19.6   208        7           62   \n",
       "\n",
       "       wickets_last_5  \n",
       "32                  0  \n",
       "33                  1  \n",
       "34                  1  \n",
       "35                  1  \n",
       "36                  1  \n",
       "...               ...  \n",
       "68857               4  \n",
       "68858               4  \n",
       "68859               4  \n",
       "68860               4  \n",
       "68861               4  \n",
       "\n",
       "[39658 rows x 25 columns]"
      ]
     },
     "execution_count": 24,
     "metadata": {},
     "output_type": "execute_result"
    }
   ],
   "source": [
    "X_train"
   ]
  },
  {
   "cell_type": "code",
   "execution_count": 25,
   "id": "2bf21d53",
   "metadata": {},
   "outputs": [
    {
     "data": {
      "text/plain": [
       "array([222, 222, 222, ..., 208, 208, 208], dtype=int64)"
      ]
     },
     "execution_count": 25,
     "metadata": {},
     "output_type": "execute_result"
    }
   ],
   "source": [
    "y_train"
   ]
  },
  {
   "cell_type": "code",
   "execution_count": 26,
   "id": "cb52c5b5",
   "metadata": {},
   "outputs": [
    {
     "data": {
      "text/plain": [
       "array([207, 207, 207, ..., 107, 107, 107], dtype=int64)"
      ]
     },
     "execution_count": 26,
     "metadata": {},
     "output_type": "execute_result"
    }
   ],
   "source": [
    "y_test"
   ]
  },
  {
   "cell_type": "markdown",
   "id": "1e75ccbc",
   "metadata": {},
   "source": [
    "**One-Hot-Encoding**"
   ]
  },
  {
   "cell_type": "code",
   "execution_count": 27,
   "id": "fcd354c1",
   "metadata": {},
   "outputs": [],
   "source": [
    "from sklearn.compose import ColumnTransformer\n",
    "from sklearn.preprocessing import OneHotEncoder"
   ]
  },
  {
   "cell_type": "code",
   "execution_count": 28,
   "id": "bd170524",
   "metadata": {},
   "outputs": [],
   "source": [
    "# trf = ColumnTransformer([\n",
    "#     ('trf', OneHotEncoder(sparse = False, drop = 'first'), ['date', 'bat_team_Chennai Super Kings', 'bat_team_Delhi Capitals', 'bat_team_Kings XI Punjab',\n",
    "#               'bat_team_Kolkata Knight Riders', 'bat_team_Mumbai Indians', 'bat_team_Rajasthan Royals',\n",
    "#               'bat_team_Royal Challengers Bangalore', 'bat_team_Sunrisers Hyderabad',\n",
    "#               'bowl_team_Chennai Super Kings', 'bowl_team_Delhi Capitals', 'bowl_team_Kings XI Punjab',\n",
    "#               'bowl_team_Kolkata Knight Riders', 'bowl_team_Mumbai Indians', 'bowl_team_Rajasthan Royals',\n",
    "#               'bowl_team_Royal Challengers Bangalore', 'bowl_team_Sunrisers Hyderabad',\n",
    "#               'overs', 'runs', 'wickets', 'runs_last_5', 'wickets_last_5', 'total'])\n",
    "# ], remainder = 'passthrough')"
   ]
  },
  {
   "cell_type": "markdown",
   "id": "87db0d17",
   "metadata": {},
   "source": [
    "# --- Model Building ---\n",
    "# Linear Regression Model"
   ]
  },
  {
   "cell_type": "code",
   "execution_count": 29,
   "id": "7dee9eee",
   "metadata": {},
   "outputs": [],
   "source": [
    "from sklearn.linear_model import LinearRegression\n",
    "from sklearn.pipeline import Pipeline\n"
   ]
  },
  {
   "cell_type": "code",
   "execution_count": 30,
   "id": "7aac4d6b",
   "metadata": {},
   "outputs": [
    {
     "data": {
      "text/plain": [
       "LinearRegression()"
      ]
     },
     "execution_count": 30,
     "metadata": {},
     "output_type": "execute_result"
    }
   ],
   "source": [
    "regressor = LinearRegression()\n",
    "regressor.fit(X_train,y_train)"
   ]
  },
  {
   "cell_type": "code",
   "execution_count": 31,
   "id": "f362598f",
   "metadata": {},
   "outputs": [],
   "source": [
    "# pipe = Pipeline(steps = [\n",
    "#     ('step1', trf),\n",
    "#     ('step2', LinearRegression())\n",
    "# ])"
   ]
  },
  {
   "cell_type": "code",
   "execution_count": 32,
   "id": "0d8a9e49",
   "metadata": {},
   "outputs": [],
   "source": [
    "# pipe.fit(X_train,y_train)"
   ]
  },
  {
   "cell_type": "code",
   "execution_count": 33,
   "id": "b9dad8ba",
   "metadata": {},
   "outputs": [],
   "source": [
    "pred = regressor.predict(X_test)"
   ]
  },
  {
   "cell_type": "code",
   "execution_count": 34,
   "id": "a79ca89e",
   "metadata": {},
   "outputs": [
    {
     "data": {
      "text/plain": [
       "array([172.25345288, 175.42084361, 174.78783414, ..., 100.8090797 ,\n",
       "       100.16359499,  93.60084579])"
      ]
     },
     "execution_count": 34,
     "metadata": {},
     "output_type": "execute_result"
    }
   ],
   "source": [
    "pred"
   ]
  },
  {
   "cell_type": "markdown",
   "id": "a1bb0100",
   "metadata": {},
   "source": [
    "**Convert pred into data frame**"
   ]
  },
  {
   "cell_type": "code",
   "execution_count": 35,
   "id": "c8d35800",
   "metadata": {},
   "outputs": [],
   "source": [
    "actual_value = y_test"
   ]
  },
  {
   "cell_type": "code",
   "execution_count": 36,
   "id": "a252b03c",
   "metadata": {},
   "outputs": [
    {
     "data": {
      "text/plain": [
       "array([207, 207, 207, ..., 107, 107, 107], dtype=int64)"
      ]
     },
     "execution_count": 36,
     "metadata": {},
     "output_type": "execute_result"
    }
   ],
   "source": [
    "actual_value"
   ]
  },
  {
   "cell_type": "code",
   "execution_count": 37,
   "id": "c8a70d95",
   "metadata": {},
   "outputs": [],
   "source": [
    "prediction1 = pd.DataFrame(pred)\n",
    "actual_value = pd.DataFrame(actual_value)"
   ]
  },
  {
   "cell_type": "code",
   "execution_count": 38,
   "id": "49aded9f",
   "metadata": {},
   "outputs": [
    {
     "data": {
      "text/html": [
       "<div>\n",
       "<style scoped>\n",
       "    .dataframe tbody tr th:only-of-type {\n",
       "        vertical-align: middle;\n",
       "    }\n",
       "\n",
       "    .dataframe tbody tr th {\n",
       "        vertical-align: top;\n",
       "    }\n",
       "\n",
       "    .dataframe thead th {\n",
       "        text-align: right;\n",
       "    }\n",
       "</style>\n",
       "<table border=\"1\" class=\"dataframe\">\n",
       "  <thead>\n",
       "    <tr style=\"text-align: right;\">\n",
       "      <th></th>\n",
       "      <th>0</th>\n",
       "    </tr>\n",
       "  </thead>\n",
       "  <tbody>\n",
       "    <tr>\n",
       "      <th>0</th>\n",
       "      <td>172.253453</td>\n",
       "    </tr>\n",
       "    <tr>\n",
       "      <th>1</th>\n",
       "      <td>175.420844</td>\n",
       "    </tr>\n",
       "    <tr>\n",
       "      <th>2</th>\n",
       "      <td>174.787834</td>\n",
       "    </tr>\n",
       "    <tr>\n",
       "      <th>3</th>\n",
       "      <td>177.955225</td>\n",
       "    </tr>\n",
       "    <tr>\n",
       "      <th>4</th>\n",
       "      <td>181.116378</td>\n",
       "    </tr>\n",
       "    <tr>\n",
       "      <th>...</th>\n",
       "      <td>...</td>\n",
       "    </tr>\n",
       "    <tr>\n",
       "      <th>3875</th>\n",
       "      <td>101.115642</td>\n",
       "    </tr>\n",
       "    <tr>\n",
       "      <th>3876</th>\n",
       "      <td>101.435852</td>\n",
       "    </tr>\n",
       "    <tr>\n",
       "      <th>3877</th>\n",
       "      <td>100.809080</td>\n",
       "    </tr>\n",
       "    <tr>\n",
       "      <th>3878</th>\n",
       "      <td>100.163595</td>\n",
       "    </tr>\n",
       "    <tr>\n",
       "      <th>3879</th>\n",
       "      <td>93.600846</td>\n",
       "    </tr>\n",
       "  </tbody>\n",
       "</table>\n",
       "<p>3880 rows × 1 columns</p>\n",
       "</div>"
      ],
      "text/plain": [
       "               0\n",
       "0     172.253453\n",
       "1     175.420844\n",
       "2     174.787834\n",
       "3     177.955225\n",
       "4     181.116378\n",
       "...          ...\n",
       "3875  101.115642\n",
       "3876  101.435852\n",
       "3877  100.809080\n",
       "3878  100.163595\n",
       "3879   93.600846\n",
       "\n",
       "[3880 rows x 1 columns]"
      ]
     },
     "execution_count": 38,
     "metadata": {},
     "output_type": "execute_result"
    }
   ],
   "source": [
    "prediction1"
   ]
  },
  {
   "cell_type": "code",
   "execution_count": 39,
   "id": "db8f9912",
   "metadata": {},
   "outputs": [
    {
     "data": {
      "text/html": [
       "<div>\n",
       "<style scoped>\n",
       "    .dataframe tbody tr th:only-of-type {\n",
       "        vertical-align: middle;\n",
       "    }\n",
       "\n",
       "    .dataframe tbody tr th {\n",
       "        vertical-align: top;\n",
       "    }\n",
       "\n",
       "    .dataframe thead th {\n",
       "        text-align: right;\n",
       "    }\n",
       "</style>\n",
       "<table border=\"1\" class=\"dataframe\">\n",
       "  <thead>\n",
       "    <tr style=\"text-align: right;\">\n",
       "      <th></th>\n",
       "      <th>0</th>\n",
       "    </tr>\n",
       "  </thead>\n",
       "  <tbody>\n",
       "    <tr>\n",
       "      <th>0</th>\n",
       "      <td>207</td>\n",
       "    </tr>\n",
       "    <tr>\n",
       "      <th>1</th>\n",
       "      <td>207</td>\n",
       "    </tr>\n",
       "    <tr>\n",
       "      <th>2</th>\n",
       "      <td>207</td>\n",
       "    </tr>\n",
       "    <tr>\n",
       "      <th>3</th>\n",
       "      <td>207</td>\n",
       "    </tr>\n",
       "    <tr>\n",
       "      <th>4</th>\n",
       "      <td>207</td>\n",
       "    </tr>\n",
       "    <tr>\n",
       "      <th>...</th>\n",
       "      <td>...</td>\n",
       "    </tr>\n",
       "    <tr>\n",
       "      <th>3875</th>\n",
       "      <td>107</td>\n",
       "    </tr>\n",
       "    <tr>\n",
       "      <th>3876</th>\n",
       "      <td>107</td>\n",
       "    </tr>\n",
       "    <tr>\n",
       "      <th>3877</th>\n",
       "      <td>107</td>\n",
       "    </tr>\n",
       "    <tr>\n",
       "      <th>3878</th>\n",
       "      <td>107</td>\n",
       "    </tr>\n",
       "    <tr>\n",
       "      <th>3879</th>\n",
       "      <td>107</td>\n",
       "    </tr>\n",
       "  </tbody>\n",
       "</table>\n",
       "<p>3880 rows × 1 columns</p>\n",
       "</div>"
      ],
      "text/plain": [
       "        0\n",
       "0     207\n",
       "1     207\n",
       "2     207\n",
       "3     207\n",
       "4     207\n",
       "...   ...\n",
       "3875  107\n",
       "3876  107\n",
       "3877  107\n",
       "3878  107\n",
       "3879  107\n",
       "\n",
       "[3880 rows x 1 columns]"
      ]
     },
     "execution_count": 39,
     "metadata": {},
     "output_type": "execute_result"
    }
   ],
   "source": [
    "actual_value"
   ]
  },
  {
   "cell_type": "markdown",
   "id": "c8a694af",
   "metadata": {},
   "source": [
    "**Concatenate actual_value and prediction1**"
   ]
  },
  {
   "cell_type": "code",
   "execution_count": 40,
   "id": "c0efd4e8",
   "metadata": {},
   "outputs": [],
   "source": [
    "frame1 = [actual_value, prediction1]"
   ]
  },
  {
   "cell_type": "code",
   "execution_count": 41,
   "id": "1f03b11b",
   "metadata": {},
   "outputs": [],
   "source": [
    "result1 = pd.concat(frame1, axis=1, join='inner')"
   ]
  },
  {
   "cell_type": "code",
   "execution_count": 42,
   "id": "b71e919f",
   "metadata": {},
   "outputs": [],
   "source": [
    "result1.columns = ['actual_value', 'prediction1']"
   ]
  },
  {
   "cell_type": "code",
   "execution_count": 43,
   "id": "c6a9433c",
   "metadata": {},
   "outputs": [
    {
     "data": {
      "text/html": [
       "<div>\n",
       "<style scoped>\n",
       "    .dataframe tbody tr th:only-of-type {\n",
       "        vertical-align: middle;\n",
       "    }\n",
       "\n",
       "    .dataframe tbody tr th {\n",
       "        vertical-align: top;\n",
       "    }\n",
       "\n",
       "    .dataframe thead th {\n",
       "        text-align: right;\n",
       "    }\n",
       "</style>\n",
       "<table border=\"1\" class=\"dataframe\">\n",
       "  <thead>\n",
       "    <tr style=\"text-align: right;\">\n",
       "      <th></th>\n",
       "      <th>actual_value</th>\n",
       "      <th>prediction1</th>\n",
       "    </tr>\n",
       "  </thead>\n",
       "  <tbody>\n",
       "    <tr>\n",
       "      <th>0</th>\n",
       "      <td>207</td>\n",
       "      <td>172.253453</td>\n",
       "    </tr>\n",
       "    <tr>\n",
       "      <th>1</th>\n",
       "      <td>207</td>\n",
       "      <td>175.420844</td>\n",
       "    </tr>\n",
       "    <tr>\n",
       "      <th>2</th>\n",
       "      <td>207</td>\n",
       "      <td>174.787834</td>\n",
       "    </tr>\n",
       "    <tr>\n",
       "      <th>3</th>\n",
       "      <td>207</td>\n",
       "      <td>177.955225</td>\n",
       "    </tr>\n",
       "    <tr>\n",
       "      <th>4</th>\n",
       "      <td>207</td>\n",
       "      <td>181.116378</td>\n",
       "    </tr>\n",
       "    <tr>\n",
       "      <th>...</th>\n",
       "      <td>...</td>\n",
       "      <td>...</td>\n",
       "    </tr>\n",
       "    <tr>\n",
       "      <th>3875</th>\n",
       "      <td>107</td>\n",
       "      <td>101.115642</td>\n",
       "    </tr>\n",
       "    <tr>\n",
       "      <th>3876</th>\n",
       "      <td>107</td>\n",
       "      <td>101.435852</td>\n",
       "    </tr>\n",
       "    <tr>\n",
       "      <th>3877</th>\n",
       "      <td>107</td>\n",
       "      <td>100.809080</td>\n",
       "    </tr>\n",
       "    <tr>\n",
       "      <th>3878</th>\n",
       "      <td>107</td>\n",
       "      <td>100.163595</td>\n",
       "    </tr>\n",
       "    <tr>\n",
       "      <th>3879</th>\n",
       "      <td>107</td>\n",
       "      <td>93.600846</td>\n",
       "    </tr>\n",
       "  </tbody>\n",
       "</table>\n",
       "<p>3880 rows × 2 columns</p>\n",
       "</div>"
      ],
      "text/plain": [
       "      actual_value  prediction1\n",
       "0              207   172.253453\n",
       "1              207   175.420844\n",
       "2              207   174.787834\n",
       "3              207   177.955225\n",
       "4              207   181.116378\n",
       "...            ...          ...\n",
       "3875           107   101.115642\n",
       "3876           107   101.435852\n",
       "3877           107   100.809080\n",
       "3878           107   100.163595\n",
       "3879           107    93.600846\n",
       "\n",
       "[3880 rows x 2 columns]"
      ]
     },
     "execution_count": 43,
     "metadata": {},
     "output_type": "execute_result"
    }
   ],
   "source": [
    "result1"
   ]
  },
  {
   "cell_type": "code",
   "execution_count": 44,
   "id": "0c25be24",
   "metadata": {},
   "outputs": [
    {
     "data": {
      "text/plain": [
       "174.18118748713826"
      ]
     },
     "execution_count": 44,
     "metadata": {},
     "output_type": "execute_result"
    }
   ],
   "source": [
    "regressor.predict(X_test)[250]"
   ]
  },
  {
   "cell_type": "code",
   "execution_count": 45,
   "id": "9faa4863",
   "metadata": {},
   "outputs": [],
   "source": [
    "from sklearn import metrics\n",
    "import numpy as np\n",
    "mae_value = metrics.mean_absolute_error(y_test, pred)\n",
    "mse_value = metrics.mean_squared_error(y_test, pred)\n",
    "rmse_value = np.sqrt(metrics.mean_squared_error(y_test, pred))"
   ]
  },
  {
   "cell_type": "code",
   "execution_count": 46,
   "id": "e282b3c2",
   "metadata": {},
   "outputs": [
    {
     "name": "stdout",
     "output_type": "stream",
     "text": [
      "MAE: 12.312732680652855\n",
      "MSE: 257.5067665759122\n",
      "RMSE: 16.04701737320404\n"
     ]
    }
   ],
   "source": [
    "print('MAE:', mae_value)\n",
    "print('MSE:', mse_value)\n",
    "print('RMSE:', rmse_value)"
   ]
  },
  {
   "cell_type": "code",
   "execution_count": 47,
   "id": "e2a47e8b",
   "metadata": {},
   "outputs": [
    {
     "data": {
      "text/plain": [
       "12.312732680652855"
      ]
     },
     "execution_count": 47,
     "metadata": {},
     "output_type": "execute_result"
    }
   ],
   "source": [
    "mae_value"
   ]
  },
  {
   "cell_type": "code",
   "execution_count": 48,
   "id": "c11359e7",
   "metadata": {},
   "outputs": [
    {
     "data": {
      "image/png": "[encoded data removed]",
      "text/plain": [
       "<Figure size 640x480 with 1 Axes>"
      ]
     },
     "metadata": {},
     "output_type": "display_data"
    }
   ],
   "source": [
    "plt.plot([rmse_value], [mse_value])\n",
    "plt.xlabel('RMSE')\n",
    "plt.ylabel('MSE')\n",
    "plt.show()"
   ]
  },
  {
   "cell_type": "markdown",
   "id": "5efcc4ef",
   "metadata": {},
   "source": [
    "**Plotting graph of linear regression**"
   ]
  },
  {
   "cell_type": "code",
   "execution_count": null,
   "id": "0e6c1b43",
   "metadata": {},
   "outputs": [],
   "source": []
  },
  {
   "cell_type": "code",
   "execution_count": 49,
   "id": "99e63fef",
   "metadata": {},
   "outputs": [],
   "source": [
    "train_y = pd.DataFrame(y_train)"
   ]
  },
  {
   "cell_type": "code",
   "execution_count": 50,
   "id": "9508ec2e",
   "metadata": {},
   "outputs": [
    {
     "data": {
      "text/html": [
       "<div>\n",
       "<style scoped>\n",
       "    .dataframe tbody tr th:only-of-type {\n",
       "        vertical-align: middle;\n",
       "    }\n",
       "\n",
       "    .dataframe tbody tr th {\n",
       "        vertical-align: top;\n",
       "    }\n",
       "\n",
       "    .dataframe thead th {\n",
       "        text-align: right;\n",
       "    }\n",
       "</style>\n",
       "<table border=\"1\" class=\"dataframe\">\n",
       "  <thead>\n",
       "    <tr style=\"text-align: right;\">\n",
       "      <th></th>\n",
       "      <th>0</th>\n",
       "    </tr>\n",
       "  </thead>\n",
       "  <tbody>\n",
       "    <tr>\n",
       "      <th>0</th>\n",
       "      <td>222</td>\n",
       "    </tr>\n",
       "    <tr>\n",
       "      <th>1</th>\n",
       "      <td>222</td>\n",
       "    </tr>\n",
       "    <tr>\n",
       "      <th>2</th>\n",
       "      <td>222</td>\n",
       "    </tr>\n",
       "    <tr>\n",
       "      <th>3</th>\n",
       "      <td>222</td>\n",
       "    </tr>\n",
       "    <tr>\n",
       "      <th>4</th>\n",
       "      <td>222</td>\n",
       "    </tr>\n",
       "    <tr>\n",
       "      <th>...</th>\n",
       "      <td>...</td>\n",
       "    </tr>\n",
       "    <tr>\n",
       "      <th>39653</th>\n",
       "      <td>208</td>\n",
       "    </tr>\n",
       "    <tr>\n",
       "      <th>39654</th>\n",
       "      <td>208</td>\n",
       "    </tr>\n",
       "    <tr>\n",
       "      <th>39655</th>\n",
       "      <td>208</td>\n",
       "    </tr>\n",
       "    <tr>\n",
       "      <th>39656</th>\n",
       "      <td>208</td>\n",
       "    </tr>\n",
       "    <tr>\n",
       "      <th>39657</th>\n",
       "      <td>208</td>\n",
       "    </tr>\n",
       "  </tbody>\n",
       "</table>\n",
       "<p>39658 rows × 1 columns</p>\n",
       "</div>"
      ],
      "text/plain": [
       "         0\n",
       "0      222\n",
       "1      222\n",
       "2      222\n",
       "3      222\n",
       "4      222\n",
       "...    ...\n",
       "39653  208\n",
       "39654  208\n",
       "39655  208\n",
       "39656  208\n",
       "39657  208\n",
       "\n",
       "[39658 rows x 1 columns]"
      ]
     },
     "execution_count": 50,
     "metadata": {},
     "output_type": "execute_result"
    }
   ],
   "source": [
    "train_y"
   ]
  },
  {
   "cell_type": "code",
   "execution_count": 51,
   "id": "b887e682",
   "metadata": {},
   "outputs": [],
   "source": [
    "# X_test"
   ]
  },
  {
   "cell_type": "code",
   "execution_count": 52,
   "id": "1e7f21a6",
   "metadata": {},
   "outputs": [],
   "source": [
    "# y_test"
   ]
  },
  {
   "cell_type": "code",
   "execution_count": 53,
   "id": "a67c55a7",
   "metadata": {},
   "outputs": [],
   "source": [
    "# test_y = pd.DataFrame(y_test)"
   ]
  },
  {
   "cell_type": "code",
   "execution_count": 54,
   "id": "66750757",
   "metadata": {},
   "outputs": [],
   "source": [
    "# test_y"
   ]
  },
  {
   "cell_type": "code",
   "execution_count": 55,
   "id": "659fb6fd",
   "metadata": {},
   "outputs": [],
   "source": [
    "c = regressor.intercept_"
   ]
  },
  {
   "cell_type": "code",
   "execution_count": 56,
   "id": "5f44fd7d",
   "metadata": {},
   "outputs": [
    {
     "data": {
      "text/plain": [
       "164.38402206102052"
      ]
     },
     "execution_count": 56,
     "metadata": {},
     "output_type": "execute_result"
    }
   ],
   "source": [
    "c"
   ]
  },
  {
   "cell_type": "code",
   "execution_count": 57,
   "id": "4aa0b42a",
   "metadata": {},
   "outputs": [],
   "source": [
    "m = regressor.coef_"
   ]
  },
  {
   "cell_type": "code",
   "execution_count": 58,
   "id": "0cbfd725",
   "metadata": {},
   "outputs": [
    {
     "data": {
      "text/plain": [
       "array([ 1.96697354, -1.33887806, -1.84444089,  0.96507993, -2.15920919,\n",
       "       -4.91068425,  3.58849056, -2.91159463,  5.55188305,  1.09237993,\n",
       "       -0.29486742,  0.2787703 ,  5.26241199,  0.9727787 , -3.48170619,\n",
       "       -1.72882091, -0.42057937, -0.16543853,  0.82408762, -1.24663617,\n",
       "       -6.20534235,  0.94074362, -4.90554007,  0.00623762, -1.03043728])"
      ]
     },
     "execution_count": 58,
     "metadata": {},
     "output_type": "execute_result"
    }
   ],
   "source": [
    "m"
   ]
  },
  {
   "cell_type": "markdown",
   "id": "0d674851",
   "metadata": {},
   "source": [
    "**Prediction on training dataset**"
   ]
  },
  {
   "cell_type": "code",
   "execution_count": 59,
   "id": "1b643d40",
   "metadata": {},
   "outputs": [],
   "source": [
    "y_pred_train = regressor.predict(X_train)"
   ]
  },
  {
   "cell_type": "code",
   "execution_count": 60,
   "id": "26128dec",
   "metadata": {},
   "outputs": [
    {
     "data": {
      "text/plain": [
       "array([189.15503497, 182.59852339, 181.97798915, ..., 196.89509327,\n",
       "       197.22154028, 202.27665588])"
      ]
     },
     "execution_count": 60,
     "metadata": {},
     "output_type": "execute_result"
    }
   ],
   "source": [
    "y_pred_train"
   ]
  },
  {
   "cell_type": "markdown",
   "id": "58e987f9",
   "metadata": {},
   "source": [
    "**With training data**"
   ]
  },
  {
   "cell_type": "code",
   "execution_count": 61,
   "id": "1b51fd81",
   "metadata": {},
   "outputs": [
    {
     "data": {
      "image/png": "[encoded data removed]",
      "text/plain": [
       "<Figure size 2500x1000 with 1 Axes>"
      ]
     },
     "metadata": {},
     "output_type": "display_data"
    }
   ],
   "source": [
    "plt.figure(figsize = (25, 10))\n",
    "plt.scatter(y_train, y_pred_train, color = 'orange')\n",
    "plt.xlabel(\"Actual Score\")\n",
    "plt.ylabel(\"Predicted Score\")\n",
    "plt.show()"
   ]
  },
  {
   "cell_type": "code",
   "execution_count": 62,
   "id": "19ad3291",
   "metadata": {},
   "outputs": [
    {
     "data": {
      "text/plain": [
       "0.6459187640717206"
      ]
     },
     "execution_count": 62,
     "metadata": {},
     "output_type": "execute_result"
    }
   ],
   "source": [
    "from sklearn.metrics import r2_score\n",
    "r2_score(y_train, y_pred_train)"
   ]
  },
  {
   "cell_type": "markdown",
   "id": "97362abc",
   "metadata": {},
   "source": [
    "**With Testing dataset**"
   ]
  },
  {
   "cell_type": "code",
   "execution_count": 63,
   "id": "9608ca96",
   "metadata": {},
   "outputs": [
    {
     "data": {
      "image/png": "[encoded data removed]",
      "text/plain": [
       "<Figure size 2500x1000 with 1 Axes>"
      ]
     },
     "metadata": {},
     "output_type": "display_data"
    }
   ],
   "source": [
    "plt.figure(figsize = (25, 10))\n",
    "plt.scatter(y_test, pred, color = 'orange')\n",
    "plt.xlabel(\"Actual Score\")\n",
    "plt.ylabel(\"Predicted Score\")\n",
    "plt.show()"
   ]
  },
  {
   "cell_type": "code",
   "execution_count": null,
   "id": "60245619",
   "metadata": {},
   "outputs": [],
   "source": []
  },
  {
   "cell_type": "markdown",
   "id": "065a02f8",
   "metadata": {},
   "source": [
    "**Plotting on the same graph (testing and training comparasion)**"
   ]
  },
  {
   "cell_type": "code",
   "execution_count": 64,
   "id": "d5beb76c",
   "metadata": {},
   "outputs": [
    {
     "data": {
      "image/png": "[encoded data removed]",
      "text/plain": [
       "<Figure size 2500x1000 with 1 Axes>"
      ]
     },
     "metadata": {},
     "output_type": "display_data"
    }
   ],
   "source": [
    "plt.figure(figsize = (25, 10))\n",
    "plt.scatter(y_train, y_pred_train, color = 'orange')\n",
    "plt.scatter(y_test, pred, color = 'green')\n",
    "plt.xlabel(\"Actual Score\")\n",
    "plt.ylabel(\"Predicted Score\")\n",
    "plt.show()"
   ]
  },
  {
   "cell_type": "code",
   "execution_count": null,
   "id": "515bced7",
   "metadata": {},
   "outputs": [],
   "source": [
    "\n"
   ]
  },
  {
   "cell_type": "markdown",
   "id": "6ff845be",
   "metadata": {},
   "source": [
    "**Accuracy of linear regression**"
   ]
  },
  {
   "cell_type": "code",
   "execution_count": 65,
   "id": "24e32735",
   "metadata": {},
   "outputs": [],
   "source": [
    "score1 = r2_score(y_test, pred)"
   ]
  },
  {
   "cell_type": "code",
   "execution_count": 66,
   "id": "92cc092e",
   "metadata": {},
   "outputs": [
    {
     "name": "stdout",
     "output_type": "stream",
     "text": [
      "The accuracy of our Linear Regression model is 72.16%\n"
     ]
    }
   ],
   "source": [
    "print(\"The accuracy of our Linear Regression model is {}%\".format(round(score1, 4) *100))"
   ]
  },
  {
   "cell_type": "code",
   "execution_count": 67,
   "id": "ec34459f",
   "metadata": {},
   "outputs": [],
   "source": [
    "# from sklearn.metrics import r2_score\n",
    "# score1 = r2_score(result1[\"actual_value\"], result1[\"prediction1\"])\n",
    "# print(\"The accuracy of our Linear Regression model is {}%\".format(round(score1, 4) *100))"
   ]
  },
  {
   "cell_type": "code",
   "execution_count": 68,
   "id": "39b1322e",
   "metadata": {},
   "outputs": [],
   "source": [
    "# score1"
   ]
  },
  {
   "cell_type": "code",
   "execution_count": 69,
   "id": "e4fcbe65",
   "metadata": {},
   "outputs": [],
   "source": [
    "# Creating a pickle file for the classifier\n",
    "filename = 'ipl-first-innings-score-prediction-model.pkl'\n",
    "pickle.dump(regressor, open(filename, 'wb'))"
   ]
  },
  {
   "cell_type": "code",
   "execution_count": null,
   "id": "4a6a130a",
   "metadata": {},
   "outputs": [],
   "source": []
  },
  {
   "cell_type": "markdown",
   "id": "7bcfe910",
   "metadata": {},
   "source": [
    "# Ridge Refression"
   ]
  },
  {
   "cell_type": "code",
   "execution_count": 70,
   "id": "053230f1",
   "metadata": {},
   "outputs": [],
   "source": [
    "## Ridge Regression\n",
    "from sklearn.linear_model import Ridge\n",
    "from sklearn.model_selection import GridSearchCV"
   ]
  },
  {
   "cell_type": "code",
   "execution_count": 71,
   "id": "3f1ded7f",
   "metadata": {},
   "outputs": [
    {
     "name": "stderr",
     "output_type": "stream",
     "text": [
      "C:\\Users\\sachin kumar ray\\anaconda3\\lib\\site-packages\\sklearn\\linear_model\\_ridge.py:157: LinAlgWarning: Ill-conditioned matrix (rcond=1.43483e-18): result may not be accurate.\n",
      "  return linalg.solve(A, Xy, sym_pos=True, overwrite_a=True).T\n",
      "C:\\Users\\sachin kumar ray\\anaconda3\\lib\\site-packages\\sklearn\\linear_model\\_ridge.py:157: LinAlgWarning: Ill-conditioned matrix (rcond=1.4416e-18): result may not be accurate.\n",
      "  return linalg.solve(A, Xy, sym_pos=True, overwrite_a=True).T\n",
      "C:\\Users\\sachin kumar ray\\anaconda3\\lib\\site-packages\\sklearn\\linear_model\\_ridge.py:157: LinAlgWarning: Ill-conditioned matrix (rcond=1.34346e-18): result may not be accurate.\n",
      "  return linalg.solve(A, Xy, sym_pos=True, overwrite_a=True).T\n",
      "C:\\Users\\sachin kumar ray\\anaconda3\\lib\\site-packages\\sklearn\\linear_model\\_ridge.py:157: LinAlgWarning: Ill-conditioned matrix (rcond=1.45125e-18): result may not be accurate.\n",
      "  return linalg.solve(A, Xy, sym_pos=True, overwrite_a=True).T\n",
      "C:\\Users\\sachin kumar ray\\anaconda3\\lib\\site-packages\\sklearn\\linear_model\\_ridge.py:157: LinAlgWarning: Ill-conditioned matrix (rcond=1.34628e-18): result may not be accurate.\n",
      "  return linalg.solve(A, Xy, sym_pos=True, overwrite_a=True).T\n"
     ]
    },
    {
     "data": {
      "text/plain": [
       "GridSearchCV(cv=5, estimator=Ridge(),\n",
       "             param_grid={'alpha': [1e-15, 1e-10, 1e-08, 0.001, 0.01, 1, 5, 10,\n",
       "                                   20, 30, 35, 40]},\n",
       "             scoring='neg_mean_squared_error')"
      ]
     },
     "execution_count": 71,
     "metadata": {},
     "output_type": "execute_result"
    }
   ],
   "source": [
    "ridge=Ridge()\n",
    "parameters={'alpha':[1e-15,1e-10,1e-8,1e-3,1e-2,1,5,10,20,30,35,40]}\n",
    "ridge_regressor=GridSearchCV(ridge,parameters,scoring='neg_mean_squared_error',cv=5)\n",
    "ridge_regressor.fit(X_train,y_train)"
   ]
  },
  {
   "cell_type": "code",
   "execution_count": 72,
   "id": "005f1cab",
   "metadata": {},
   "outputs": [
    {
     "name": "stdout",
     "output_type": "stream",
     "text": [
      "{'alpha': 40}\n",
      "-328.65931292513926\n"
     ]
    }
   ],
   "source": [
    "print(ridge_regressor.best_params_)\n",
    "print(ridge_regressor.best_score_)"
   ]
  },
  {
   "cell_type": "code",
   "execution_count": 73,
   "id": "cf26bf91",
   "metadata": {},
   "outputs": [],
   "source": [
    "prediction2=ridge_regressor.predict(X_test)"
   ]
  },
  {
   "cell_type": "code",
   "execution_count": 74,
   "id": "7e0a06d5",
   "metadata": {},
   "outputs": [
    {
     "data": {
      "text/plain": [
       "array([172.21538629, 175.38525289, 174.75053841, ..., 100.85862453,\n",
       "       100.20958678,  93.64881386])"
      ]
     },
     "execution_count": 74,
     "metadata": {},
     "output_type": "execute_result"
    }
   ],
   "source": [
    "prediction2"
   ]
  },
  {
   "cell_type": "code",
   "execution_count": 75,
   "id": "687fbe57",
   "metadata": {},
   "outputs": [],
   "source": [
    "prediction2 = pd.DataFrame(prediction2)"
   ]
  },
  {
   "cell_type": "code",
   "execution_count": 76,
   "id": "d0b2a9fc",
   "metadata": {},
   "outputs": [
    {
     "data": {
      "text/html": [
       "<div>\n",
       "<style scoped>\n",
       "    .dataframe tbody tr th:only-of-type {\n",
       "        vertical-align: middle;\n",
       "    }\n",
       "\n",
       "    .dataframe tbody tr th {\n",
       "        vertical-align: top;\n",
       "    }\n",
       "\n",
       "    .dataframe thead th {\n",
       "        text-align: right;\n",
       "    }\n",
       "</style>\n",
       "<table border=\"1\" class=\"dataframe\">\n",
       "  <thead>\n",
       "    <tr style=\"text-align: right;\">\n",
       "      <th></th>\n",
       "      <th>0</th>\n",
       "    </tr>\n",
       "  </thead>\n",
       "  <tbody>\n",
       "    <tr>\n",
       "      <th>0</th>\n",
       "      <td>172.215386</td>\n",
       "    </tr>\n",
       "    <tr>\n",
       "      <th>1</th>\n",
       "      <td>175.385253</td>\n",
       "    </tr>\n",
       "    <tr>\n",
       "      <th>2</th>\n",
       "      <td>174.750538</td>\n",
       "    </tr>\n",
       "    <tr>\n",
       "      <th>3</th>\n",
       "      <td>177.920405</td>\n",
       "    </tr>\n",
       "    <tr>\n",
       "      <th>4</th>\n",
       "      <td>181.083110</td>\n",
       "    </tr>\n",
       "    <tr>\n",
       "      <th>...</th>\n",
       "      <td>...</td>\n",
       "    </tr>\n",
       "    <tr>\n",
       "      <th>3875</th>\n",
       "      <td>101.166166</td>\n",
       "    </tr>\n",
       "    <tr>\n",
       "      <th>3876</th>\n",
       "      <td>101.486177</td>\n",
       "    </tr>\n",
       "    <tr>\n",
       "      <th>3877</th>\n",
       "      <td>100.858625</td>\n",
       "    </tr>\n",
       "    <tr>\n",
       "      <th>3878</th>\n",
       "      <td>100.209587</td>\n",
       "    </tr>\n",
       "    <tr>\n",
       "      <th>3879</th>\n",
       "      <td>93.648814</td>\n",
       "    </tr>\n",
       "  </tbody>\n",
       "</table>\n",
       "<p>3880 rows × 1 columns</p>\n",
       "</div>"
      ],
      "text/plain": [
       "               0\n",
       "0     172.215386\n",
       "1     175.385253\n",
       "2     174.750538\n",
       "3     177.920405\n",
       "4     181.083110\n",
       "...          ...\n",
       "3875  101.166166\n",
       "3876  101.486177\n",
       "3877  100.858625\n",
       "3878  100.209587\n",
       "3879   93.648814\n",
       "\n",
       "[3880 rows x 1 columns]"
      ]
     },
     "execution_count": 76,
     "metadata": {},
     "output_type": "execute_result"
    }
   ],
   "source": [
    "prediction2"
   ]
  },
  {
   "cell_type": "markdown",
   "id": "459d182a",
   "metadata": {},
   "source": [
    "**Concatenate actual_value and prediction2**"
   ]
  },
  {
   "cell_type": "code",
   "execution_count": 77,
   "id": "c80a3320",
   "metadata": {},
   "outputs": [],
   "source": [
    "frame2 = [actual_value, prediction2]"
   ]
  },
  {
   "cell_type": "code",
   "execution_count": 78,
   "id": "b81c3ef7",
   "metadata": {},
   "outputs": [],
   "source": [
    "result2 = pd.concat(frame2, axis=1, join='inner')"
   ]
  },
  {
   "cell_type": "code",
   "execution_count": 79,
   "id": "59ca30f4",
   "metadata": {},
   "outputs": [],
   "source": [
    "result2.columns = ['actual_value', 'prediction2']"
   ]
  },
  {
   "cell_type": "code",
   "execution_count": 80,
   "id": "2e2c775b",
   "metadata": {},
   "outputs": [
    {
     "data": {
      "text/html": [
       "<div>\n",
       "<style scoped>\n",
       "    .dataframe tbody tr th:only-of-type {\n",
       "        vertical-align: middle;\n",
       "    }\n",
       "\n",
       "    .dataframe tbody tr th {\n",
       "        vertical-align: top;\n",
       "    }\n",
       "\n",
       "    .dataframe thead th {\n",
       "        text-align: right;\n",
       "    }\n",
       "</style>\n",
       "<table border=\"1\" class=\"dataframe\">\n",
       "  <thead>\n",
       "    <tr style=\"text-align: right;\">\n",
       "      <th></th>\n",
       "      <th>actual_value</th>\n",
       "      <th>prediction2</th>\n",
       "    </tr>\n",
       "  </thead>\n",
       "  <tbody>\n",
       "    <tr>\n",
       "      <th>0</th>\n",
       "      <td>207</td>\n",
       "      <td>172.215386</td>\n",
       "    </tr>\n",
       "    <tr>\n",
       "      <th>1</th>\n",
       "      <td>207</td>\n",
       "      <td>175.385253</td>\n",
       "    </tr>\n",
       "    <tr>\n",
       "      <th>2</th>\n",
       "      <td>207</td>\n",
       "      <td>174.750538</td>\n",
       "    </tr>\n",
       "    <tr>\n",
       "      <th>3</th>\n",
       "      <td>207</td>\n",
       "      <td>177.920405</td>\n",
       "    </tr>\n",
       "    <tr>\n",
       "      <th>4</th>\n",
       "      <td>207</td>\n",
       "      <td>181.083110</td>\n",
       "    </tr>\n",
       "    <tr>\n",
       "      <th>...</th>\n",
       "      <td>...</td>\n",
       "      <td>...</td>\n",
       "    </tr>\n",
       "    <tr>\n",
       "      <th>3875</th>\n",
       "      <td>107</td>\n",
       "      <td>101.166166</td>\n",
       "    </tr>\n",
       "    <tr>\n",
       "      <th>3876</th>\n",
       "      <td>107</td>\n",
       "      <td>101.486177</td>\n",
       "    </tr>\n",
       "    <tr>\n",
       "      <th>3877</th>\n",
       "      <td>107</td>\n",
       "      <td>100.858625</td>\n",
       "    </tr>\n",
       "    <tr>\n",
       "      <th>3878</th>\n",
       "      <td>107</td>\n",
       "      <td>100.209587</td>\n",
       "    </tr>\n",
       "    <tr>\n",
       "      <th>3879</th>\n",
       "      <td>107</td>\n",
       "      <td>93.648814</td>\n",
       "    </tr>\n",
       "  </tbody>\n",
       "</table>\n",
       "<p>3880 rows × 2 columns</p>\n",
       "</div>"
      ],
      "text/plain": [
       "      actual_value  prediction2\n",
       "0              207   172.215386\n",
       "1              207   175.385253\n",
       "2              207   174.750538\n",
       "3              207   177.920405\n",
       "4              207   181.083110\n",
       "...            ...          ...\n",
       "3875           107   101.166166\n",
       "3876           107   101.486177\n",
       "3877           107   100.858625\n",
       "3878           107   100.209587\n",
       "3879           107    93.648814\n",
       "\n",
       "[3880 rows x 2 columns]"
      ]
     },
     "execution_count": 80,
     "metadata": {},
     "output_type": "execute_result"
    }
   ],
   "source": [
    "result2"
   ]
  },
  {
   "cell_type": "code",
   "execution_count": 81,
   "id": "5b7007f1",
   "metadata": {},
   "outputs": [
    {
     "data": {
      "text/plain": [
       "200.2563136470916"
      ]
     },
     "execution_count": 81,
     "metadata": {},
     "output_type": "execute_result"
    }
   ],
   "source": [
    "ridge_regressor.predict(X_test)[69]"
   ]
  },
  {
   "cell_type": "code",
   "execution_count": 82,
   "id": "55492efa",
   "metadata": {},
   "outputs": [],
   "source": [
    "# import seaborn as sns\n",
    "# sns.distplot(y_test-prediction2)"
   ]
  },
  {
   "cell_type": "code",
   "execution_count": 83,
   "id": "9c7c87bf",
   "metadata": {},
   "outputs": [
    {
     "name": "stdout",
     "output_type": "stream",
     "text": [
      "MAE: 12.298881515325943\n",
      "MSE: 257.11140659583253\n",
      "RMSE: 16.034693841661976\n"
     ]
    }
   ],
   "source": [
    "from sklearn import metrics\n",
    "import numpy as np\n",
    "print('MAE:', metrics.mean_absolute_error(y_test, prediction2))\n",
    "print('MSE:', metrics.mean_squared_error(y_test, prediction2))\n",
    "print('RMSE:', np.sqrt(metrics.mean_squared_error(y_test, prediction2)))"
   ]
  },
  {
   "cell_type": "markdown",
   "id": "89fe9f28",
   "metadata": {},
   "source": [
    "**Accuracy of Ridge Regression**"
   ]
  },
  {
   "cell_type": "code",
   "execution_count": 84,
   "id": "df14366c",
   "metadata": {},
   "outputs": [
    {
     "name": "stdout",
     "output_type": "stream",
     "text": [
      "The accuracy of our Ridge Regression model is 72.2%\n"
     ]
    }
   ],
   "source": [
    "from sklearn.metrics import r2_score\n",
    "score2 = r2_score(result2[\"actual_value\"], result2[\"prediction2\"])\n",
    "print(\"The accuracy of our Ridge Regression model is {}%\".format(round(score2, 4) *100))"
   ]
  },
  {
   "cell_type": "code",
   "execution_count": 85,
   "id": "ea637317",
   "metadata": {},
   "outputs": [
    {
     "data": {
      "text/plain": [
       "0.722032181705236"
      ]
     },
     "execution_count": 85,
     "metadata": {},
     "output_type": "execute_result"
    }
   ],
   "source": [
    "score2"
   ]
  },
  {
   "cell_type": "markdown",
   "id": "a400e2eb",
   "metadata": {},
   "source": [
    "# Lasso Regression"
   ]
  },
  {
   "cell_type": "code",
   "execution_count": 86,
   "id": "bfd1c2ee",
   "metadata": {},
   "outputs": [],
   "source": [
    "from sklearn.linear_model import Lasso\n",
    "from sklearn.model_selection import GridSearchCV"
   ]
  },
  {
   "cell_type": "code",
   "execution_count": 87,
   "id": "d78810d5",
   "metadata": {},
   "outputs": [
    {
     "name": "stderr",
     "output_type": "stream",
     "text": [
      "C:\\Users\\sachin kumar ray\\anaconda3\\lib\\site-packages\\sklearn\\linear_model\\_coordinate_descent.py:647: ConvergenceWarning: Objective did not converge. You might want to increase the number of iterations, check the scale of the features or consider increasing regularisation. Duality gap: 4.788e+06, tolerance: 2.647e+03\n",
      "  model = cd_fast.enet_coordinate_descent(\n",
      "C:\\Users\\sachin kumar ray\\anaconda3\\lib\\site-packages\\sklearn\\linear_model\\_coordinate_descent.py:647: ConvergenceWarning: Objective did not converge. You might want to increase the number of iterations, check the scale of the features or consider increasing regularisation. Duality gap: 4.632e+06, tolerance: 2.608e+03\n",
      "  model = cd_fast.enet_coordinate_descent(\n",
      "C:\\Users\\sachin kumar ray\\anaconda3\\lib\\site-packages\\sklearn\\linear_model\\_coordinate_descent.py:647: ConvergenceWarning: Objective did not converge. You might want to increase the number of iterations, check the scale of the features or consider increasing regularisation. Duality gap: 4.875e+06, tolerance: 2.842e+03\n",
      "  model = cd_fast.enet_coordinate_descent(\n",
      "C:\\Users\\sachin kumar ray\\anaconda3\\lib\\site-packages\\sklearn\\linear_model\\_coordinate_descent.py:647: ConvergenceWarning: Objective did not converge. You might want to increase the number of iterations, check the scale of the features or consider increasing regularisation. Duality gap: 4.780e+06, tolerance: 2.898e+03\n",
      "  model = cd_fast.enet_coordinate_descent(\n",
      "C:\\Users\\sachin kumar ray\\anaconda3\\lib\\site-packages\\sklearn\\linear_model\\_coordinate_descent.py:647: ConvergenceWarning: Objective did not converge. You might want to increase the number of iterations, check the scale of the features or consider increasing regularisation. Duality gap: 4.646e+06, tolerance: 2.742e+03\n",
      "  model = cd_fast.enet_coordinate_descent(\n",
      "C:\\Users\\sachin kumar ray\\anaconda3\\lib\\site-packages\\sklearn\\linear_model\\_coordinate_descent.py:647: ConvergenceWarning: Objective did not converge. You might want to increase the number of iterations, check the scale of the features or consider increasing regularisation. Duality gap: 1.258e+06, tolerance: 2.647e+03\n",
      "  model = cd_fast.enet_coordinate_descent(\n",
      "C:\\Users\\sachin kumar ray\\anaconda3\\lib\\site-packages\\sklearn\\linear_model\\_coordinate_descent.py:647: ConvergenceWarning: Objective did not converge. You might want to increase the number of iterations, check the scale of the features or consider increasing regularisation. Duality gap: 1.260e+06, tolerance: 2.608e+03\n",
      "  model = cd_fast.enet_coordinate_descent(\n",
      "C:\\Users\\sachin kumar ray\\anaconda3\\lib\\site-packages\\sklearn\\linear_model\\_coordinate_descent.py:647: ConvergenceWarning: Objective did not converge. You might want to increase the number of iterations, check the scale of the features or consider increasing regularisation. Duality gap: 9.513e+05, tolerance: 2.842e+03\n",
      "  model = cd_fast.enet_coordinate_descent(\n",
      "C:\\Users\\sachin kumar ray\\anaconda3\\lib\\site-packages\\sklearn\\linear_model\\_coordinate_descent.py:647: ConvergenceWarning: Objective did not converge. You might want to increase the number of iterations, check the scale of the features or consider increasing regularisation. Duality gap: 6.098e+05, tolerance: 2.898e+03\n",
      "  model = cd_fast.enet_coordinate_descent(\n",
      "C:\\Users\\sachin kumar ray\\anaconda3\\lib\\site-packages\\sklearn\\linear_model\\_coordinate_descent.py:647: ConvergenceWarning: Objective did not converge. You might want to increase the number of iterations, check the scale of the features or consider increasing regularisation. Duality gap: 3.651e+05, tolerance: 2.742e+03\n",
      "  model = cd_fast.enet_coordinate_descent(\n",
      "C:\\Users\\sachin kumar ray\\anaconda3\\lib\\site-packages\\sklearn\\linear_model\\_coordinate_descent.py:647: ConvergenceWarning: Objective did not converge. You might want to increase the number of iterations, check the scale of the features or consider increasing regularisation. Duality gap: 1.258e+06, tolerance: 2.647e+03\n",
      "  model = cd_fast.enet_coordinate_descent(\n",
      "C:\\Users\\sachin kumar ray\\anaconda3\\lib\\site-packages\\sklearn\\linear_model\\_coordinate_descent.py:647: ConvergenceWarning: Objective did not converge. You might want to increase the number of iterations, check the scale of the features or consider increasing regularisation. Duality gap: 1.260e+06, tolerance: 2.608e+03\n",
      "  model = cd_fast.enet_coordinate_descent(\n",
      "C:\\Users\\sachin kumar ray\\anaconda3\\lib\\site-packages\\sklearn\\linear_model\\_coordinate_descent.py:647: ConvergenceWarning: Objective did not converge. You might want to increase the number of iterations, check the scale of the features or consider increasing regularisation. Duality gap: 9.513e+05, tolerance: 2.842e+03\n",
      "  model = cd_fast.enet_coordinate_descent(\n",
      "C:\\Users\\sachin kumar ray\\anaconda3\\lib\\site-packages\\sklearn\\linear_model\\_coordinate_descent.py:647: ConvergenceWarning: Objective did not converge. You might want to increase the number of iterations, check the scale of the features or consider increasing regularisation. Duality gap: 6.098e+05, tolerance: 2.898e+03\n",
      "  model = cd_fast.enet_coordinate_descent(\n",
      "C:\\Users\\sachin kumar ray\\anaconda3\\lib\\site-packages\\sklearn\\linear_model\\_coordinate_descent.py:647: ConvergenceWarning: Objective did not converge. You might want to increase the number of iterations, check the scale of the features or consider increasing regularisation. Duality gap: 3.651e+05, tolerance: 2.742e+03\n",
      "  model = cd_fast.enet_coordinate_descent(\n"
     ]
    },
    {
     "name": "stdout",
     "output_type": "stream",
     "text": [
      "{'alpha': 1}\n",
      "-321.7584659923037\n"
     ]
    }
   ],
   "source": [
    "lasso=Lasso()\n",
    "parameters={'alpha':[1e-15,1e-10,1e-8,1e-3,1e-2,1,5,10,20,30,35,40]}\n",
    "lasso_regressor=GridSearchCV(lasso,parameters,scoring='neg_mean_squared_error',cv=5)\n",
    "\n",
    "lasso_regressor.fit(X_train,y_train)\n",
    "print(lasso_regressor.best_params_)\n",
    "print(lasso_regressor.best_score_)"
   ]
  },
  {
   "cell_type": "code",
   "execution_count": 88,
   "id": "31b58d78",
   "metadata": {},
   "outputs": [],
   "source": [
    "prediction3=lasso_regressor.predict(X_test)"
   ]
  },
  {
   "cell_type": "code",
   "execution_count": 89,
   "id": "7775354f",
   "metadata": {},
   "outputs": [
    {
     "data": {
      "text/plain": [
       "array([170.87637489, 174.29122344, 173.47838988, ..., 106.50735785,\n",
       "       105.44371993,  99.57836569])"
      ]
     },
     "execution_count": 89,
     "metadata": {},
     "output_type": "execute_result"
    }
   ],
   "source": [
    "prediction3"
   ]
  },
  {
   "cell_type": "code",
   "execution_count": 90,
   "id": "d1449c56",
   "metadata": {},
   "outputs": [],
   "source": [
    "prediction3 = pd.DataFrame(prediction3)"
   ]
  },
  {
   "cell_type": "code",
   "execution_count": 91,
   "id": "a10214e7",
   "metadata": {},
   "outputs": [
    {
     "data": {
      "text/html": [
       "<div>\n",
       "<style scoped>\n",
       "    .dataframe tbody tr th:only-of-type {\n",
       "        vertical-align: middle;\n",
       "    }\n",
       "\n",
       "    .dataframe tbody tr th {\n",
       "        vertical-align: top;\n",
       "    }\n",
       "\n",
       "    .dataframe thead th {\n",
       "        text-align: right;\n",
       "    }\n",
       "</style>\n",
       "<table border=\"1\" class=\"dataframe\">\n",
       "  <thead>\n",
       "    <tr style=\"text-align: right;\">\n",
       "      <th></th>\n",
       "      <th>0</th>\n",
       "    </tr>\n",
       "  </thead>\n",
       "  <tbody>\n",
       "    <tr>\n",
       "      <th>0</th>\n",
       "      <td>170.876375</td>\n",
       "    </tr>\n",
       "    <tr>\n",
       "      <th>1</th>\n",
       "      <td>174.291223</td>\n",
       "    </tr>\n",
       "    <tr>\n",
       "      <th>2</th>\n",
       "      <td>173.478390</td>\n",
       "    </tr>\n",
       "    <tr>\n",
       "      <th>3</th>\n",
       "      <td>176.893238</td>\n",
       "    </tr>\n",
       "    <tr>\n",
       "      <th>4</th>\n",
       "      <td>180.182685</td>\n",
       "    </tr>\n",
       "    <tr>\n",
       "      <th>...</th>\n",
       "      <td>...</td>\n",
       "    </tr>\n",
       "    <tr>\n",
       "      <th>3875</th>\n",
       "      <td>106.888001</td>\n",
       "    </tr>\n",
       "    <tr>\n",
       "      <th>3876</th>\n",
       "      <td>107.194789</td>\n",
       "    </tr>\n",
       "    <tr>\n",
       "      <th>3877</th>\n",
       "      <td>106.507358</td>\n",
       "    </tr>\n",
       "    <tr>\n",
       "      <th>3878</th>\n",
       "      <td>105.443720</td>\n",
       "    </tr>\n",
       "    <tr>\n",
       "      <th>3879</th>\n",
       "      <td>99.578366</td>\n",
       "    </tr>\n",
       "  </tbody>\n",
       "</table>\n",
       "<p>3880 rows × 1 columns</p>\n",
       "</div>"
      ],
      "text/plain": [
       "               0\n",
       "0     170.876375\n",
       "1     174.291223\n",
       "2     173.478390\n",
       "3     176.893238\n",
       "4     180.182685\n",
       "...          ...\n",
       "3875  106.888001\n",
       "3876  107.194789\n",
       "3877  106.507358\n",
       "3878  105.443720\n",
       "3879   99.578366\n",
       "\n",
       "[3880 rows x 1 columns]"
      ]
     },
     "execution_count": 91,
     "metadata": {},
     "output_type": "execute_result"
    }
   ],
   "source": [
    "prediction3"
   ]
  },
  {
   "cell_type": "markdown",
   "id": "b01e157a",
   "metadata": {},
   "source": [
    "**Concatenate actual_value and prediction3**"
   ]
  },
  {
   "cell_type": "code",
   "execution_count": 92,
   "id": "25216ada",
   "metadata": {},
   "outputs": [],
   "source": [
    "frame3 = [actual_value, prediction3]"
   ]
  },
  {
   "cell_type": "code",
   "execution_count": 93,
   "id": "88e6dd6b",
   "metadata": {},
   "outputs": [],
   "source": [
    "result3 = pd.concat(frame3, axis=1, join='inner')"
   ]
  },
  {
   "cell_type": "code",
   "execution_count": 94,
   "id": "8cbe5d21",
   "metadata": {},
   "outputs": [],
   "source": [
    "result3.columns = ['actual_value', 'prediction3']"
   ]
  },
  {
   "cell_type": "code",
   "execution_count": 95,
   "id": "f419a53a",
   "metadata": {},
   "outputs": [
    {
     "data": {
      "text/html": [
       "<div>\n",
       "<style scoped>\n",
       "    .dataframe tbody tr th:only-of-type {\n",
       "        vertical-align: middle;\n",
       "    }\n",
       "\n",
       "    .dataframe tbody tr th {\n",
       "        vertical-align: top;\n",
       "    }\n",
       "\n",
       "    .dataframe thead th {\n",
       "        text-align: right;\n",
       "    }\n",
       "</style>\n",
       "<table border=\"1\" class=\"dataframe\">\n",
       "  <thead>\n",
       "    <tr style=\"text-align: right;\">\n",
       "      <th></th>\n",
       "      <th>actual_value</th>\n",
       "      <th>prediction3</th>\n",
       "    </tr>\n",
       "  </thead>\n",
       "  <tbody>\n",
       "    <tr>\n",
       "      <th>0</th>\n",
       "      <td>207</td>\n",
       "      <td>170.876375</td>\n",
       "    </tr>\n",
       "    <tr>\n",
       "      <th>1</th>\n",
       "      <td>207</td>\n",
       "      <td>174.291223</td>\n",
       "    </tr>\n",
       "    <tr>\n",
       "      <th>2</th>\n",
       "      <td>207</td>\n",
       "      <td>173.478390</td>\n",
       "    </tr>\n",
       "    <tr>\n",
       "      <th>3</th>\n",
       "      <td>207</td>\n",
       "      <td>176.893238</td>\n",
       "    </tr>\n",
       "    <tr>\n",
       "      <th>4</th>\n",
       "      <td>207</td>\n",
       "      <td>180.182685</td>\n",
       "    </tr>\n",
       "    <tr>\n",
       "      <th>...</th>\n",
       "      <td>...</td>\n",
       "      <td>...</td>\n",
       "    </tr>\n",
       "    <tr>\n",
       "      <th>3875</th>\n",
       "      <td>107</td>\n",
       "      <td>106.888001</td>\n",
       "    </tr>\n",
       "    <tr>\n",
       "      <th>3876</th>\n",
       "      <td>107</td>\n",
       "      <td>107.194789</td>\n",
       "    </tr>\n",
       "    <tr>\n",
       "      <th>3877</th>\n",
       "      <td>107</td>\n",
       "      <td>106.507358</td>\n",
       "    </tr>\n",
       "    <tr>\n",
       "      <th>3878</th>\n",
       "      <td>107</td>\n",
       "      <td>105.443720</td>\n",
       "    </tr>\n",
       "    <tr>\n",
       "      <th>3879</th>\n",
       "      <td>107</td>\n",
       "      <td>99.578366</td>\n",
       "    </tr>\n",
       "  </tbody>\n",
       "</table>\n",
       "<p>3880 rows × 2 columns</p>\n",
       "</div>"
      ],
      "text/plain": [
       "      actual_value  prediction3\n",
       "0              207   170.876375\n",
       "1              207   174.291223\n",
       "2              207   173.478390\n",
       "3              207   176.893238\n",
       "4              207   180.182685\n",
       "...            ...          ...\n",
       "3875           107   106.888001\n",
       "3876           107   107.194789\n",
       "3877           107   106.507358\n",
       "3878           107   105.443720\n",
       "3879           107    99.578366\n",
       "\n",
       "[3880 rows x 2 columns]"
      ]
     },
     "execution_count": 95,
     "metadata": {},
     "output_type": "execute_result"
    }
   ],
   "source": [
    "result3"
   ]
  },
  {
   "cell_type": "code",
   "execution_count": 96,
   "id": "8fc10425",
   "metadata": {},
   "outputs": [
    {
     "data": {
      "text/plain": [
       "170.64262687974497"
      ]
     },
     "execution_count": 96,
     "metadata": {},
     "output_type": "execute_result"
    }
   ],
   "source": [
    "lasso_regressor.predict(X_test)[250]"
   ]
  },
  {
   "cell_type": "code",
   "execution_count": 97,
   "id": "e297386c",
   "metadata": {},
   "outputs": [
    {
     "data": {
      "text/plain": [
       "array([207, 207, 207, ..., 107, 107, 107], dtype=int64)"
      ]
     },
     "execution_count": 97,
     "metadata": {},
     "output_type": "execute_result"
    }
   ],
   "source": [
    "y_test"
   ]
  },
  {
   "cell_type": "code",
   "execution_count": 98,
   "id": "f94a1f58",
   "metadata": {},
   "outputs": [],
   "source": [
    "# import seaborn as sns\n",
    "# sns.distplot(y_test-prediction3)"
   ]
  },
  {
   "cell_type": "code",
   "execution_count": 99,
   "id": "0ec3b676",
   "metadata": {},
   "outputs": [
    {
     "name": "stdout",
     "output_type": "stream",
     "text": [
      "MAE: 12.346651664171699\n",
      "MSE: 263.73897753355544\n",
      "RMSE: 16.240042411692016\n"
     ]
    }
   ],
   "source": [
    "from sklearn import metrics\n",
    "import numpy as np\n",
    "print('MAE:', metrics.mean_absolute_error(y_test, prediction3))\n",
    "print('MSE:', metrics.mean_squared_error(y_test, prediction3))\n",
    "print('RMSE:', np.sqrt(metrics.mean_squared_error(y_test, prediction3)))"
   ]
  },
  {
   "cell_type": "markdown",
   "id": "86abdb9e",
   "metadata": {},
   "source": [
    "**Accuracy of Lasso Regression**"
   ]
  },
  {
   "cell_type": "code",
   "execution_count": 100,
   "id": "5e9c7089",
   "metadata": {},
   "outputs": [
    {
     "name": "stdout",
     "output_type": "stream",
     "text": [
      "The accuracy of our Lasso Regression model is 71.49%\n"
     ]
    }
   ],
   "source": [
    "from sklearn.metrics import r2_score\n",
    "score3 = r2_score(result3[\"actual_value\"], result3[\"prediction3\"])\n",
    "print(\"The accuracy of our Lasso Regression model is {}%\".format(round(score3, 4) *100))"
   ]
  },
  {
   "cell_type": "code",
   "execution_count": 101,
   "id": "eb2a3a66",
   "metadata": {},
   "outputs": [
    {
     "data": {
      "text/plain": [
       "0.7148669942149409"
      ]
     },
     "execution_count": 101,
     "metadata": {},
     "output_type": "execute_result"
    }
   ],
   "source": [
    "score3"
   ]
  },
  {
   "cell_type": "code",
   "execution_count": null,
   "id": "3a9b47cb",
   "metadata": {},
   "outputs": [],
   "source": []
  },
  {
   "cell_type": "code",
   "execution_count": null,
   "id": "c48e5d55",
   "metadata": {},
   "outputs": [],
   "source": []
  },
  {
   "cell_type": "code",
   "execution_count": null,
   "id": "e5c91b04",
   "metadata": {},
   "outputs": [],
   "source": []
  },
  {
   "cell_type": "code",
   "execution_count": null,
   "id": "2f93f1b7",
   "metadata": {},
   "outputs": [],
   "source": []
  }
 ],
 "metadata": {
  "kernelspec": {
   "display_name": "Python 3 (ipykernel)",
   "language": "python",
   "name": "python3"
  },
  "language_info": {
   "codemirror_mode": {
    "name": "ipython",
    "version": 3
   },
   "file_extension": ".py",
   "mimetype": "text/x-python",
   "name": "python",
   "nbconvert_exporter": "python",
   "pygments_lexer": "ipython3",
   "version": "3.9.13"
  }
 },
 "nbformat": 4,
 "nbformat_minor": 5
}
